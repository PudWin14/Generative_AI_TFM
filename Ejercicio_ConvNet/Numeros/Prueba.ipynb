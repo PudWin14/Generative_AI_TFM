{
 "cells": [
  {
   "cell_type": "code",
   "execution_count": 2,
   "metadata": {},
   "outputs": [],
   "source": [
    "import torch"
   ]
  },
  {
   "cell_type": "code",
   "execution_count": 22,
   "metadata": {},
   "outputs": [],
   "source": [
    "from torch import nn\n",
    "\n",
    "class ConvNet(nn.Module):\n",
    "    \n",
    "    def __init__(self):\n",
    "        super().__init__()\n",
    "\n",
    "        self.encoder = nn.Sequential(\n",
    "            nn.Conv2d(1,32,kernel_size=3),\n",
    "            nn.ReLU(),\n",
    "            nn.MaxPool2d(2),\n",
    "            nn.Conv2d(32,64,kernel_size=3),\n",
    "            nn.ReLU(),\n",
    "            nn.MaxPool2d(2),\n",
    "            nn.Conv2d(64,128,kernel_size=3),\n",
    "            nn.ReLU(),\n",
    "            nn.Flatten()\n",
    "        )\n",
    "        self.classifiyer = nn.Sequential(\n",
    "            nn.Linear(128*3*3,110),\n",
    "            nn.ReLU(),\n",
    "            nn.Linear(110,10),\n",
    "            nn.Softmax(1)\n",
    "        )\n",
    "\n",
    "    def forward(self,x):\n",
    "        x = self.encoder(x)\n",
    "        x = self.classifiyer(x)\n",
    "\n",
    "        return x\n",
    "\n",
    "conv = ConvNet().cuda()"
   ]
  },
  {
   "cell_type": "code",
   "execution_count": 23,
   "metadata": {},
   "outputs": [
    {
     "name": "stdout",
     "output_type": "stream",
     "text": [
      "----------------------------------------------------------------\n",
      "        Layer (type)               Output Shape         Param #\n",
      "================================================================\n",
      "            Conv2d-1            [1, 32, 26, 26]             320\n",
      "              ReLU-2            [1, 32, 26, 26]               0\n",
      "         MaxPool2d-3            [1, 32, 13, 13]               0\n",
      "            Conv2d-4            [1, 64, 11, 11]          18,496\n",
      "              ReLU-5            [1, 64, 11, 11]               0\n",
      "         MaxPool2d-6              [1, 64, 5, 5]               0\n",
      "            Conv2d-7             [1, 128, 3, 3]          73,856\n",
      "              ReLU-8             [1, 128, 3, 3]               0\n",
      "           Flatten-9                  [1, 1152]               0\n",
      "           Linear-10                   [1, 110]         126,830\n",
      "             ReLU-11                   [1, 110]               0\n",
      "           Linear-12                    [1, 10]           1,110\n",
      "          Softmax-13                    [1, 10]               0\n",
      "================================================================\n",
      "Total params: 220,612\n",
      "Trainable params: 220,612\n",
      "Non-trainable params: 0\n",
      "----------------------------------------------------------------\n",
      "Input size (MB): 0.00\n",
      "Forward/backward pass size (MB): 0.53\n",
      "Params size (MB): 0.84\n",
      "Estimated Total Size (MB): 1.37\n",
      "----------------------------------------------------------------\n"
     ]
    }
   ],
   "source": [
    "from torchsummary import summary\n",
    "\n",
    "summary(conv,(1,28,28),batch_size=1)"
   ]
  },
  {
   "cell_type": "code",
   "execution_count": 24,
   "metadata": {},
   "outputs": [
    {
     "data": {
      "text/plain": [
       "torch.Size([20, 1, 28, 28])"
      ]
     },
     "execution_count": 24,
     "metadata": {},
     "output_type": "execute_result"
    }
   ],
   "source": [
    "img = torch.rand((20,1,28,28)).cuda()\n",
    "# img =img[None,:].cuda()\n",
    "img.shape\n"
   ]
  },
  {
   "cell_type": "code",
   "execution_count": 25,
   "metadata": {},
   "outputs": [],
   "source": [
    "logits = conv(img)"
   ]
  },
  {
   "cell_type": "code",
   "execution_count": 26,
   "metadata": {},
   "outputs": [
    {
     "data": {
      "text/plain": [
       "tensor([[0.1031, 0.1073, 0.0895, 0.0995, 0.1061, 0.0898, 0.0960, 0.1070, 0.0984,\n",
       "         0.1033],\n",
       "        [0.1034, 0.1076, 0.0894, 0.0993, 0.1061, 0.0900, 0.0956, 0.1069, 0.0982,\n",
       "         0.1035],\n",
       "        [0.1026, 0.1076, 0.0897, 0.0990, 0.1059, 0.0897, 0.0964, 0.1072, 0.0982,\n",
       "         0.1038],\n",
       "        [0.1031, 0.1079, 0.0893, 0.0994, 0.1057, 0.0896, 0.0961, 0.1070, 0.0984,\n",
       "         0.1037],\n",
       "        [0.1034, 0.1073, 0.0891, 0.0987, 0.1064, 0.0896, 0.0962, 0.1071, 0.0981,\n",
       "         0.1042],\n",
       "        [0.1032, 0.1076, 0.0894, 0.0991, 0.1063, 0.0896, 0.0960, 0.1070, 0.0979,\n",
       "         0.1039],\n",
       "        [0.1027, 0.1077, 0.0895, 0.0989, 0.1064, 0.0896, 0.0964, 0.1074, 0.0979,\n",
       "         0.1035],\n",
       "        [0.1025, 0.1077, 0.0892, 0.0997, 0.1060, 0.0898, 0.0962, 0.1068, 0.0984,\n",
       "         0.1037],\n",
       "        [0.1032, 0.1075, 0.0897, 0.0995, 0.1062, 0.0895, 0.0958, 0.1067, 0.0981,\n",
       "         0.1038],\n",
       "        [0.1027, 0.1077, 0.0895, 0.0992, 0.1059, 0.0898, 0.0962, 0.1071, 0.0985,\n",
       "         0.1035],\n",
       "        [0.1031, 0.1076, 0.0892, 0.0991, 0.1063, 0.0897, 0.0962, 0.1069, 0.0983,\n",
       "         0.1037],\n",
       "        [0.1030, 0.1075, 0.0898, 0.0990, 0.1064, 0.0898, 0.0960, 0.1068, 0.0979,\n",
       "         0.1038],\n",
       "        [0.1036, 0.1070, 0.0893, 0.0992, 0.1060, 0.0893, 0.0963, 0.1072, 0.0980,\n",
       "         0.1043],\n",
       "        [0.1026, 0.1074, 0.0894, 0.0992, 0.1063, 0.0898, 0.0965, 0.1076, 0.0975,\n",
       "         0.1036],\n",
       "        [0.1028, 0.1074, 0.0892, 0.0994, 0.1067, 0.0896, 0.0961, 0.1068, 0.0980,\n",
       "         0.1040],\n",
       "        [0.1035, 0.1077, 0.0897, 0.0992, 0.1059, 0.0893, 0.0960, 0.1068, 0.0983,\n",
       "         0.1036],\n",
       "        [0.1031, 0.1074, 0.0897, 0.0992, 0.1060, 0.0897, 0.0962, 0.1068, 0.0981,\n",
       "         0.1038],\n",
       "        [0.1030, 0.1075, 0.0897, 0.0997, 0.1063, 0.0898, 0.0956, 0.1067, 0.0982,\n",
       "         0.1036],\n",
       "        [0.1026, 0.1078, 0.0897, 0.0992, 0.1059, 0.0897, 0.0963, 0.1071, 0.0985,\n",
       "         0.1033],\n",
       "        [0.1032, 0.1078, 0.0895, 0.0991, 0.1058, 0.0895, 0.0960, 0.1070, 0.0979,\n",
       "         0.1040]], device='cuda:0', grad_fn=<SoftmaxBackward0>)"
      ]
     },
     "execution_count": 26,
     "metadata": {},
     "output_type": "execute_result"
    }
   ],
   "source": [
    "logits"
   ]
  }
 ],
 "metadata": {
  "kernelspec": {
   "display_name": ".venv",
   "language": "python",
   "name": "python3"
  },
  "language_info": {
   "codemirror_mode": {
    "name": "ipython",
    "version": 3
   },
   "file_extension": ".py",
   "mimetype": "text/x-python",
   "name": "python",
   "nbconvert_exporter": "python",
   "pygments_lexer": "ipython3",
   "version": "3.11.11"
  }
 },
 "nbformat": 4,
 "nbformat_minor": 2
}
