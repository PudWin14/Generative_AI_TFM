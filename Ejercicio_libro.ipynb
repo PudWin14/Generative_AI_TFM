{
 "cells": [
  {
   "cell_type": "markdown",
   "metadata": {},
   "source": [
    "# Using LMs to generate text\n",
    "Ejercicio propuesto en el capítulo 2: Transformers del libro Hands on Generative AI"
   ]
  },
  {
   "cell_type": "code",
   "execution_count": 1,
   "metadata": {},
   "outputs": [
    {
     "name": "stdout",
     "output_type": "stream",
     "text": [
      "cuda:0\n"
     ]
    }
   ],
   "source": [
    "import torch\n",
    "import transformers\n",
    "import numpy as np\n",
    "\n",
    "GPU = torch.device(\"cuda:0\" if torch.cuda.is_available() else \"cpu\")\n",
    "CPU = torch.device(\"cpu\")\n",
    "print(GPU)"
   ]
  },
  {
   "cell_type": "markdown",
   "metadata": {},
   "source": [
    "# Enunciado\n",
    "Your goal is to fill the code in the following function. Rather than use `model​.gen⁠erate()`, the idea is to iteratively call `model()`, passing the previous tokens as input. You have to implement greedy search when `do_sample=False`, sampling when `do_sample=True`, and Top-K sampling when `do_sample=True` and top_k is not `None`. This will be a challenging task, so do not worry if you don’t come up with a solution quickly. We suggest you begin implementing greedy search and then build on top of it:"
   ]
  },
  {
   "cell_type": "code",
   "execution_count": 2,
   "metadata": {},
   "outputs": [],
   "source": [
    "model = transformers.AutoModelForCausalLM.from_pretrained(\"Qwen/Qwen2.5-1.5B\")\n",
    "model.to(GPU)\n",
    "tokenizer = transformers.AutoTokenizer.from_pretrained(\"Qwen/Qwen2.5-1.5B\")"
   ]
  },
  {
   "cell_type": "code",
   "execution_count": 3,
   "metadata": {},
   "outputs": [],
   "source": [
    "prompt = \"Cuándo la tormenta amenazaba con caer sobre los albores del mundo\"\n",
    "\n",
    "input_tokens_ids = tokenizer(prompt,return_tensors=\"pt\").input_ids\n",
    "input_tokens_ids = input_tokens_ids.to(GPU)\n"
   ]
  },
  {
   "cell_type": "code",
   "execution_count": 4,
   "metadata": {},
   "outputs": [],
   "source": [
    "def normalize(values : np.array):\n",
    "\n",
    "    min_valor = np.min(values)\n",
    "    valores = values + abs(min_valor)\n",
    "\n",
    "    normalized = valores / np.sum(valores)\n",
    "    return normalized\n",
    "\n",
    "\n",
    "def generate(\n",
    "    model, tokenizer, input_ids, max_length=50, do_sample=False, top_k=None\n",
    "):\n",
    "    \"\"\"Generate a sequence without using model.generate()\n",
    "\n",
    "    Args:\n",
    "        model: The model to use for generation.\n",
    "        tokenizer: The tokenizer to use for generation.\n",
    "        input_ids: The input IDs\n",
    "        max_length: The maximum length of the sequence.\n",
    "        do_sample: Whether to use sampling.\n",
    "        top_k: The number of tokens to sample from.\n",
    "    \"\"\"\n",
    "    # Write your code here\n",
    "    # Begin by the simplest approach, greedy decoding.\n",
    "    # Then add sampling and finally top-k sampling.\n",
    "\n",
    "    # input_ids = input_tokens_ids\n",
    "    input_list = input_ids.tolist()[0]\n",
    "    iterate_ids = input_ids\n",
    "    iterate_list = input_list\n",
    "\n",
    "    for _ in range(max_length):\n",
    "\n",
    "        output_logits = model(iterate_ids).logits[0][-1].to(CPU) # Ejecuto el modelo.\n",
    "                                                        # Devuelve una lista de logits\n",
    "        \n",
    "        if not do_sample:   # Si no está activo el do_sample, se usa simpre el más probable\n",
    "            new_token_id = output_logits.argmax().tolist()\n",
    "        else:\n",
    "\n",
    "            if not top_k:   # Si no se usa top_k, se utilizan todos los posibles tokens\n",
    "                np_logits = output_logits.detach().numpy()\n",
    "                \n",
    "                normalized_weights = normalize(np_logits)\n",
    "                new_token_id = np.random.choice(len(normalized_weights),p=normalized_weights)\n",
    "                \n",
    "            else:           # Si se usa top_k, se ordenan los logits y se utilizan los k más probables.\n",
    "                np_output_logits = output_logits.detach().numpy()\n",
    "                np_args_logits = np.argsort(np_output_logits)[::-1][0:top_k]\n",
    "                np_logits = np_output_logits[np_args_logits]\n",
    "                \n",
    "                normalized_weights = normalize(np_logits)\n",
    "                new_token_id = np.random.choice(np_args_logits,p=normalized_weights)\n",
    "            \n",
    "            \n",
    "        iterate_list.append(new_token_id)\n",
    "        iterate_ids = torch.tensor([iterate_list]).to(GPU)\n",
    "\n",
    "\n",
    "    output = tokenizer.decode(input_list,skip_special_tokens=True)\n",
    "\n",
    "    return output\n",
    "    "
   ]
  },
  {
   "cell_type": "code",
   "execution_count": 6,
   "metadata": {},
   "outputs": [
    {
     "name": "stdout",
     "output_type": "stream",
     "text": [
      "Cuándo la tormenta amenazaba con caer sobre los albores del mundo, la humanidade, como siempre ha ocurrido con las grandes tormentas del tiempo que se produjeron en la historia humana y la destruyó.\n",
      "El 3 de abril 541, la Torbelline de la Tormente de 10,700 kilos de masa, que se desató sobre la tirola de Vercelli y el nacimiento de los alboles en 240 kilómetros al noreo y\n"
     ]
    }
   ],
   "source": [
    "print(generate(model, tokenizer, input_tokens_ids,max_length=100,do_sample=True,top_k=4))"
   ]
  }
 ],
 "metadata": {
  "kernelspec": {
   "display_name": ".venv",
   "language": "python",
   "name": "python3"
  },
  "language_info": {
   "codemirror_mode": {
    "name": "ipython",
    "version": 3
   },
   "file_extension": ".py",
   "mimetype": "text/x-python",
   "name": "python",
   "nbconvert_exporter": "python",
   "pygments_lexer": "ipython3",
   "version": "3.11.11"
  }
 },
 "nbformat": 4,
 "nbformat_minor": 2
}
