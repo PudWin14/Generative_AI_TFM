{
 "cells": [
  {
   "cell_type": "markdown",
   "id": "76d5fad0",
   "metadata": {},
   "source": [
    "## Detección de Out-of-Distribution (OOD)\n",
    "La comprobación de los elementos fuera de distribución, es decir, de imágenes que no pertenezcan al dataset utilizado, es un elemento crucial para el despliegue de sistemas de Machine-Learning, concretamente, los sistemas no supervisados."
   ]
  },
  {
   "cell_type": "markdown",
   "id": "a87fa880",
   "metadata": {},
   "source": [
    "En este código, vamos a implementar la metodología del paper \"Denoising diffusion models for out-of-distribution detection\" para la detección de estas imágenes."
   ]
  },
  {
   "cell_type": "markdown",
   "id": "b6374428",
   "metadata": {},
   "source": [
    "# Importación de Librerías"
   ]
  },
  {
   "cell_type": "code",
   "execution_count": 1,
   "id": "e25dc635",
   "metadata": {},
   "outputs": [],
   "source": [
    "import torch\n",
    "from torch.nn import functional as F\n",
    "from diffusers import PNDMScheduler, UNet2DModel\n",
    "# from diffusers import schedulers\n",
    "# from PIL import Image\n",
    "\n",
    "import matplotlib.pyplot as plt\n",
    "from datasets import load_dataset\n",
    "from torchvision import transforms"
   ]
  },
  {
   "cell_type": "markdown",
   "id": "e0f20e65",
   "metadata": {},
   "source": [
    "# Funciones auxiliares necesarias"
   ]
  },
  {
   "cell_type": "code",
   "execution_count": 2,
   "id": "4e63c961",
   "metadata": {},
   "outputs": [],
   "source": [
    "def show_images(images_tensor:torch.tensor, cmap = \"grey\"):\n",
    "    n_dims = images_tensor.dim()\n",
    "    \n",
    "    if n_dims in (2,3):\n",
    "        x_cat = images_tensor\n",
    "\n",
    "    elif n_dims == 4:\n",
    "        x_list = [img for img in images_tensor]\n",
    "        x_cat = torch.cat(x_list,dim=2)\n",
    "    \n",
    "    else:\n",
    "        raise SyntaxError(\"The dimensions of images_tensor must be between 2 and 4\")\n",
    "\n",
    "    if n_dims != 2:\n",
    "        if x_cat.shape[0] == 1:\n",
    "            plt.imshow(x_cat.movedim(0,-1),cmap);\n",
    "        else:\n",
    "            plt.imshow(x_cat.movedim(0,-1));\n",
    "    else:\n",
    "        plt.imshow(x_cat,cmap);"
   ]
  },
  {
   "cell_type": "code",
   "execution_count": 3,
   "id": "23e33fd8",
   "metadata": {},
   "outputs": [],
   "source": [
    "def show_images_list(images_list:list[torch.Tensor], cmap = \"grey\") -> None:\n",
    "\n",
    "    images_tensor = torch.concat(images_list,dim=0)\n",
    "\n",
    "    # return images_tensor\n",
    "    # show_images(images_tensor.unsqueeze(1))\n",
    "    show_images(images_tensor.unsqueeze(1),cmap)\n"
   ]
  },
  {
   "cell_type": "markdown",
   "id": "cbb65f65",
   "metadata": {},
   "source": [
    "# Dataset\n",
    "Usaremos fashionMNIST como dataset de datos En Distribución (ID) y sus versiones Volteadas como dataset Fuera de Distribución (OOD)\n",
    "\n",
    "De momento, solamente vamos a entrenar a la red, por lo que no necesitaremos las distribuciones OOD"
   ]
  },
  {
   "cell_type": "markdown",
   "id": "f11abf55",
   "metadata": {},
   "source": [
    "## Imágenes del para el dataset original: FashionMNIST"
   ]
  },
  {
   "cell_type": "code",
   "execution_count": 4,
   "id": "c21108d3",
   "metadata": {},
   "outputs": [],
   "source": [
    "preprocess = transforms.Compose([\n",
    "    transforms.ToTensor(),              #To Torch Tensor\n",
    "    transforms.Pad(2),                  # Add a padding of 2 pixels\n",
    "    transforms.Normalize([0.5], [0.5])  # Normalize to (-1,1)\n",
    "])\n",
    "\n",
    "def dataset_preprocess(examples):\n",
    "    images = [preprocess(example) for example in examples[\"image\"]]\n",
    "    return {\"image\": images}"
   ]
  },
  {
   "cell_type": "code",
   "execution_count": 5,
   "id": "a08366d4",
   "metadata": {},
   "outputs": [],
   "source": [
    "dataset = load_dataset(\"fashion_mnist\")\n",
    "\n",
    "_,test_dataset = torch.utils.data.random_split(dataset[\"train\"].with_transform(dataset_preprocess),(0.8,0.2))\n",
    "\n",
    "# val_dataset = torch.utils.data.random_split(dataset[\"test\"].with_transform(dataset_preprocess),(1,))[0]\n"
   ]
  },
  {
   "cell_type": "code",
   "execution_count": 6,
   "id": "5ea0d188",
   "metadata": {},
   "outputs": [],
   "source": [
    "# train_dataloader = torch.utils.data.DataLoader(\n",
    "#     train_dataset,\n",
    "#     shuffle=True,\n",
    "#     batch_size=256\n",
    "# )\n",
    "ID_dataloader = torch.utils.data.DataLoader(\n",
    "    test_dataset,\n",
    "    shuffle=True,\n",
    "    batch_size=256\n",
    ")\n",
    "# val_dataloader = torch.utils.data.DataLoader(\n",
    "#     val_dataset,\n",
    "#     shuffle=True,\n",
    "#     batch_size=256\n",
    "# )"
   ]
  },
  {
   "cell_type": "markdown",
   "id": "24ee833d",
   "metadata": {},
   "source": [
    "## Imágenes del para el dataset de pruebas: FashionMNIST volteado verticalmente"
   ]
  },
  {
   "cell_type": "code",
   "execution_count": 7,
   "id": "278e44f8",
   "metadata": {},
   "outputs": [],
   "source": [
    "OOD_preprocess = transforms.Compose([\n",
    "    transforms.ToTensor(),              #To Torch Tensor\n",
    "    transforms.RandomVerticalFlip(1),   # Vertical flip all the images\n",
    "    transforms.Pad(2),                  # Add a padding of 2 pixels\n",
    "    transforms.Normalize([0.5], [0.5])  # Normalize to (-1,1)\n",
    "])\n",
    "\n",
    "def dataset_OOD_preprocess(examples):\n",
    "    images = [OOD_preprocess(example) for example in examples[\"image\"]]\n",
    "    return {\"image\": images}"
   ]
  },
  {
   "cell_type": "code",
   "execution_count": 8,
   "id": "1df82a5e",
   "metadata": {},
   "outputs": [],
   "source": [
    "OOD_dataset,_ = torch.utils.data.random_split(dataset[\"train\"].with_transform(dataset_OOD_preprocess),(0.5,0.5))\n",
    "\n",
    "OOD_dataloader = torch.utils.data.DataLoader(\n",
    "    OOD_dataset,\n",
    "    shuffle=True,\n",
    "    batch_size=256\n",
    ")"
   ]
  },
  {
   "cell_type": "code",
   "execution_count": null,
   "id": "ae2c389a",
   "metadata": {},
   "outputs": [],
   "source": [
    "# dataset_ood = load_dataset(\"MNIST\")"
   ]
  },
  {
   "cell_type": "code",
   "execution_count": null,
   "id": "44712b96",
   "metadata": {},
   "outputs": [],
   "source": [
    "# OOD_dataset,_ = torch.utils.data.random_split(dataset_ood[\"train\"].with_transform(dataset_preprocess),(0.5,0.5))\n",
    "# OOD_dataloader = torch.utils.data.DataLoader(\n",
    "#     OOD_dataset,\n",
    "#     shuffle=True,\n",
    "#     batch_size=256\n",
    "# )"
   ]
  },
  {
   "cell_type": "code",
   "execution_count": 9,
   "id": "feaaf4ab",
   "metadata": {},
   "outputs": [
    {
     "data": {
      "image/png": "[encoded data removed]",
      "text/plain": [
       "<Figure size 640x480 with 1 Axes>"
      ]
     },
     "metadata": {},
     "output_type": "display_data"
    }
   ],
   "source": [
    "# show_images(next(iter(OOD_dataloader))[\"images\"][5])\n",
    "\n",
    "show_images_list([next(iter(OOD_dataloader))[\"image\"][5], next(iter(ID_dataloader))[\"image\"][5]])\n",
    "plt.title(\"Imágenes fuera y dentro de distribución\");"
   ]
  },
  {
   "cell_type": "markdown",
   "id": "8874fb2e",
   "metadata": {},
   "source": [
    "## Lectura de datos de base\n",
    "Vamos a leer los datos de la distribución formada por las métricas para poder realizar el cálculo de los z-scores más adelante"
   ]
  },
  {
   "cell_type": "code",
   "execution_count": 10,
   "id": "5699c893",
   "metadata": {},
   "outputs": [],
   "source": [
    "import csv\n",
    "MSE_distribution_list = []\n",
    "LPIPS_distribution_list = []\n",
    "\n",
    "with open(\"Base_data_distribution.csv\",\"r\") as file:\n",
    "\n",
    "    reader = csv.reader(file)\n",
    "\n",
    "    for row in reader:\n",
    "        if row[0] == \"MSE_distribution\":\n",
    "            MSE_distribution_list.append(tuple([float(item) for item in row[1:]]))\n",
    "        \n",
    "        elif row[0] == \"LPIPS_distribution\":\n",
    "            LPIPS_distribution_list.append(tuple([float(item) for item in row[1:]]))\n",
    "\n",
    "        else:\n",
    "            raise ValueError(\"No se encuentra el nombre del tipo de dato en la primera columna\")"
   ]
  },
  {
   "cell_type": "markdown",
   "id": "984ed59a",
   "metadata": {},
   "source": [
    "# Modelo\n",
    "Importamos el Modelo del fichero de pesos"
   ]
  },
  {
   "cell_type": "code",
   "execution_count": 11,
   "id": "904a8dc4",
   "metadata": {},
   "outputs": [
    {
     "data": {
      "text/plain": [
       "UNet2DModel(\n",
       "  (conv_in): Conv2d(1, 32, kernel_size=(3, 3), stride=(1, 1), padding=(1, 1))\n",
       "  (time_proj): Timesteps()\n",
       "  (time_embedding): TimestepEmbedding(\n",
       "    (linear_1): Linear(in_features=32, out_features=128, bias=True)\n",
       "    (act): SiLU()\n",
       "    (linear_2): Linear(in_features=128, out_features=128, bias=True)\n",
       "  )\n",
       "  (down_blocks): ModuleList(\n",
       "    (0): DownBlock2D(\n",
       "      (resnets): ModuleList(\n",
       "        (0-1): 2 x ResnetBlock2D(\n",
       "          (norm1): GroupNorm(32, 32, eps=1e-05, affine=True)\n",
       "          (conv1): Conv2d(32, 32, kernel_size=(3, 3), stride=(1, 1), padding=(1, 1))\n",
       "          (time_emb_proj): Linear(in_features=128, out_features=32, bias=True)\n",
       "          (norm2): GroupNorm(32, 32, eps=1e-05, affine=True)\n",
       "          (dropout): Dropout(p=0.0, inplace=False)\n",
       "          (conv2): Conv2d(32, 32, kernel_size=(3, 3), stride=(1, 1), padding=(1, 1))\n",
       "          (nonlinearity): SiLU()\n",
       "        )\n",
       "      )\n",
       "      (downsamplers): ModuleList(\n",
       "        (0): Downsample2D(\n",
       "          (conv): Conv2d(32, 32, kernel_size=(3, 3), stride=(2, 2), padding=(1, 1))\n",
       "        )\n",
       "      )\n",
       "    )\n",
       "    (1): DownBlock2D(\n",
       "      (resnets): ModuleList(\n",
       "        (0): ResnetBlock2D(\n",
       "          (norm1): GroupNorm(32, 32, eps=1e-05, affine=True)\n",
       "          (conv1): Conv2d(32, 64, kernel_size=(3, 3), stride=(1, 1), padding=(1, 1))\n",
       "          (time_emb_proj): Linear(in_features=128, out_features=64, bias=True)\n",
       "          (norm2): GroupNorm(32, 64, eps=1e-05, affine=True)\n",
       "          (dropout): Dropout(p=0.0, inplace=False)\n",
       "          (conv2): Conv2d(64, 64, kernel_size=(3, 3), stride=(1, 1), padding=(1, 1))\n",
       "          (nonlinearity): SiLU()\n",
       "          (conv_shortcut): Conv2d(32, 64, kernel_size=(1, 1), stride=(1, 1))\n",
       "        )\n",
       "        (1): ResnetBlock2D(\n",
       "          (norm1): GroupNorm(32, 64, eps=1e-05, affine=True)\n",
       "          (conv1): Conv2d(64, 64, kernel_size=(3, 3), stride=(1, 1), padding=(1, 1))\n",
       "          (time_emb_proj): Linear(in_features=128, out_features=64, bias=True)\n",
       "          (norm2): GroupNorm(32, 64, eps=1e-05, affine=True)\n",
       "          (dropout): Dropout(p=0.0, inplace=False)\n",
       "          (conv2): Conv2d(64, 64, kernel_size=(3, 3), stride=(1, 1), padding=(1, 1))\n",
       "          (nonlinearity): SiLU()\n",
       "        )\n",
       "      )\n",
       "      (downsamplers): ModuleList(\n",
       "        (0): Downsample2D(\n",
       "          (conv): Conv2d(64, 64, kernel_size=(3, 3), stride=(2, 2), padding=(1, 1))\n",
       "        )\n",
       "      )\n",
       "    )\n",
       "    (2): AttnDownBlock2D(\n",
       "      (attentions): ModuleList(\n",
       "        (0-1): 2 x Attention(\n",
       "          (group_norm): GroupNorm(32, 128, eps=1e-05, affine=True)\n",
       "          (to_q): Linear(in_features=128, out_features=128, bias=True)\n",
       "          (to_k): Linear(in_features=128, out_features=128, bias=True)\n",
       "          (to_v): Linear(in_features=128, out_features=128, bias=True)\n",
       "          (to_out): ModuleList(\n",
       "            (0): Linear(in_features=128, out_features=128, bias=True)\n",
       "            (1): Dropout(p=0.0, inplace=False)\n",
       "          )\n",
       "        )\n",
       "      )\n",
       "      (resnets): ModuleList(\n",
       "        (0): ResnetBlock2D(\n",
       "          (norm1): GroupNorm(32, 64, eps=1e-05, affine=True)\n",
       "          (conv1): Conv2d(64, 128, kernel_size=(3, 3), stride=(1, 1), padding=(1, 1))\n",
       "          (time_emb_proj): Linear(in_features=128, out_features=128, bias=True)\n",
       "          (norm2): GroupNorm(32, 128, eps=1e-05, affine=True)\n",
       "          (dropout): Dropout(p=0.0, inplace=False)\n",
       "          (conv2): Conv2d(128, 128, kernel_size=(3, 3), stride=(1, 1), padding=(1, 1))\n",
       "          (nonlinearity): SiLU()\n",
       "          (conv_shortcut): Conv2d(64, 128, kernel_size=(1, 1), stride=(1, 1))\n",
       "        )\n",
       "        (1): ResnetBlock2D(\n",
       "          (norm1): GroupNorm(32, 128, eps=1e-05, affine=True)\n",
       "          (conv1): Conv2d(128, 128, kernel_size=(3, 3), stride=(1, 1), padding=(1, 1))\n",
       "          (time_emb_proj): Linear(in_features=128, out_features=128, bias=True)\n",
       "          (norm2): GroupNorm(32, 128, eps=1e-05, affine=True)\n",
       "          (dropout): Dropout(p=0.0, inplace=False)\n",
       "          (conv2): Conv2d(128, 128, kernel_size=(3, 3), stride=(1, 1), padding=(1, 1))\n",
       "          (nonlinearity): SiLU()\n",
       "        )\n",
       "      )\n",
       "      (downsamplers): ModuleList(\n",
       "        (0): Downsample2D(\n",
       "          (conv): Conv2d(128, 128, kernel_size=(3, 3), stride=(2, 2), padding=(1, 1))\n",
       "        )\n",
       "      )\n",
       "    )\n",
       "    (3): AttnDownBlock2D(\n",
       "      (attentions): ModuleList(\n",
       "        (0-1): 2 x Attention(\n",
       "          (group_norm): GroupNorm(32, 256, eps=1e-05, affine=True)\n",
       "          (to_q): Linear(in_features=256, out_features=256, bias=True)\n",
       "          (to_k): Linear(in_features=256, out_features=256, bias=True)\n",
       "          (to_v): Linear(in_features=256, out_features=256, bias=True)\n",
       "          (to_out): ModuleList(\n",
       "            (0): Linear(in_features=256, out_features=256, bias=True)\n",
       "            (1): Dropout(p=0.0, inplace=False)\n",
       "          )\n",
       "        )\n",
       "      )\n",
       "      (resnets): ModuleList(\n",
       "        (0): ResnetBlock2D(\n",
       "          (norm1): GroupNorm(32, 128, eps=1e-05, affine=True)\n",
       "          (conv1): Conv2d(128, 256, kernel_size=(3, 3), stride=(1, 1), padding=(1, 1))\n",
       "          (time_emb_proj): Linear(in_features=128, out_features=256, bias=True)\n",
       "          (norm2): GroupNorm(32, 256, eps=1e-05, affine=True)\n",
       "          (dropout): Dropout(p=0.0, inplace=False)\n",
       "          (conv2): Conv2d(256, 256, kernel_size=(3, 3), stride=(1, 1), padding=(1, 1))\n",
       "          (nonlinearity): SiLU()\n",
       "          (conv_shortcut): Conv2d(128, 256, kernel_size=(1, 1), stride=(1, 1))\n",
       "        )\n",
       "        (1): ResnetBlock2D(\n",
       "          (norm1): GroupNorm(32, 256, eps=1e-05, affine=True)\n",
       "          (conv1): Conv2d(256, 256, kernel_size=(3, 3), stride=(1, 1), padding=(1, 1))\n",
       "          (time_emb_proj): Linear(in_features=128, out_features=256, bias=True)\n",
       "          (norm2): GroupNorm(32, 256, eps=1e-05, affine=True)\n",
       "          (dropout): Dropout(p=0.0, inplace=False)\n",
       "          (conv2): Conv2d(256, 256, kernel_size=(3, 3), stride=(1, 1), padding=(1, 1))\n",
       "          (nonlinearity): SiLU()\n",
       "        )\n",
       "      )\n",
       "    )\n",
       "  )\n",
       "  (up_blocks): ModuleList(\n",
       "    (0): AttnUpBlock2D(\n",
       "      (attentions): ModuleList(\n",
       "        (0-2): 3 x Attention(\n",
       "          (group_norm): GroupNorm(32, 256, eps=1e-05, affine=True)\n",
       "          (to_q): Linear(in_features=256, out_features=256, bias=True)\n",
       "          (to_k): Linear(in_features=256, out_features=256, bias=True)\n",
       "          (to_v): Linear(in_features=256, out_features=256, bias=True)\n",
       "          (to_out): ModuleList(\n",
       "            (0): Linear(in_features=256, out_features=256, bias=True)\n",
       "            (1): Dropout(p=0.0, inplace=False)\n",
       "          )\n",
       "        )\n",
       "      )\n",
       "      (resnets): ModuleList(\n",
       "        (0-1): 2 x ResnetBlock2D(\n",
       "          (norm1): GroupNorm(32, 512, eps=1e-05, affine=True)\n",
       "          (conv1): Conv2d(512, 256, kernel_size=(3, 3), stride=(1, 1), padding=(1, 1))\n",
       "          (time_emb_proj): Linear(in_features=128, out_features=256, bias=True)\n",
       "          (norm2): GroupNorm(32, 256, eps=1e-05, affine=True)\n",
       "          (dropout): Dropout(p=0.0, inplace=False)\n",
       "          (conv2): Conv2d(256, 256, kernel_size=(3, 3), stride=(1, 1), padding=(1, 1))\n",
       "          (nonlinearity): SiLU()\n",
       "          (conv_shortcut): Conv2d(512, 256, kernel_size=(1, 1), stride=(1, 1))\n",
       "        )\n",
       "        (2): ResnetBlock2D(\n",
       "          (norm1): GroupNorm(32, 384, eps=1e-05, affine=True)\n",
       "          (conv1): Conv2d(384, 256, kernel_size=(3, 3), stride=(1, 1), padding=(1, 1))\n",
       "          (time_emb_proj): Linear(in_features=128, out_features=256, bias=True)\n",
       "          (norm2): GroupNorm(32, 256, eps=1e-05, affine=True)\n",
       "          (dropout): Dropout(p=0.0, inplace=False)\n",
       "          (conv2): Conv2d(256, 256, kernel_size=(3, 3), stride=(1, 1), padding=(1, 1))\n",
       "          (nonlinearity): SiLU()\n",
       "          (conv_shortcut): Conv2d(384, 256, kernel_size=(1, 1), stride=(1, 1))\n",
       "        )\n",
       "      )\n",
       "      (upsamplers): ModuleList(\n",
       "        (0): Upsample2D(\n",
       "          (conv): Conv2d(256, 256, kernel_size=(3, 3), stride=(1, 1), padding=(1, 1))\n",
       "        )\n",
       "      )\n",
       "    )\n",
       "    (1): AttnUpBlock2D(\n",
       "      (attentions): ModuleList(\n",
       "        (0-2): 3 x Attention(\n",
       "          (group_norm): GroupNorm(32, 128, eps=1e-05, affine=True)\n",
       "          (to_q): Linear(in_features=128, out_features=128, bias=True)\n",
       "          (to_k): Linear(in_features=128, out_features=128, bias=True)\n",
       "          (to_v): Linear(in_features=128, out_features=128, bias=True)\n",
       "          (to_out): ModuleList(\n",
       "            (0): Linear(in_features=128, out_features=128, bias=True)\n",
       "            (1): Dropout(p=0.0, inplace=False)\n",
       "          )\n",
       "        )\n",
       "      )\n",
       "      (resnets): ModuleList(\n",
       "        (0): ResnetBlock2D(\n",
       "          (norm1): GroupNorm(32, 384, eps=1e-05, affine=True)\n",
       "          (conv1): Conv2d(384, 128, kernel_size=(3, 3), stride=(1, 1), padding=(1, 1))\n",
       "          (time_emb_proj): Linear(in_features=128, out_features=128, bias=True)\n",
       "          (norm2): GroupNorm(32, 128, eps=1e-05, affine=True)\n",
       "          (dropout): Dropout(p=0.0, inplace=False)\n",
       "          (conv2): Conv2d(128, 128, kernel_size=(3, 3), stride=(1, 1), padding=(1, 1))\n",
       "          (nonlinearity): SiLU()\n",
       "          (conv_shortcut): Conv2d(384, 128, kernel_size=(1, 1), stride=(1, 1))\n",
       "        )\n",
       "        (1): ResnetBlock2D(\n",
       "          (norm1): GroupNorm(32, 256, eps=1e-05, affine=True)\n",
       "          (conv1): Conv2d(256, 128, kernel_size=(3, 3), stride=(1, 1), padding=(1, 1))\n",
       "          (time_emb_proj): Linear(in_features=128, out_features=128, bias=True)\n",
       "          (norm2): GroupNorm(32, 128, eps=1e-05, affine=True)\n",
       "          (dropout): Dropout(p=0.0, inplace=False)\n",
       "          (conv2): Conv2d(128, 128, kernel_size=(3, 3), stride=(1, 1), padding=(1, 1))\n",
       "          (nonlinearity): SiLU()\n",
       "          (conv_shortcut): Conv2d(256, 128, kernel_size=(1, 1), stride=(1, 1))\n",
       "        )\n",
       "        (2): ResnetBlock2D(\n",
       "          (norm1): GroupNorm(32, 192, eps=1e-05, affine=True)\n",
       "          (conv1): Conv2d(192, 128, kernel_size=(3, 3), stride=(1, 1), padding=(1, 1))\n",
       "          (time_emb_proj): Linear(in_features=128, out_features=128, bias=True)\n",
       "          (norm2): GroupNorm(32, 128, eps=1e-05, affine=True)\n",
       "          (dropout): Dropout(p=0.0, inplace=False)\n",
       "          (conv2): Conv2d(128, 128, kernel_size=(3, 3), stride=(1, 1), padding=(1, 1))\n",
       "          (nonlinearity): SiLU()\n",
       "          (conv_shortcut): Conv2d(192, 128, kernel_size=(1, 1), stride=(1, 1))\n",
       "        )\n",
       "      )\n",
       "      (upsamplers): ModuleList(\n",
       "        (0): Upsample2D(\n",
       "          (conv): Conv2d(128, 128, kernel_size=(3, 3), stride=(1, 1), padding=(1, 1))\n",
       "        )\n",
       "      )\n",
       "    )\n",
       "    (2): UpBlock2D(\n",
       "      (resnets): ModuleList(\n",
       "        (0): ResnetBlock2D(\n",
       "          (norm1): GroupNorm(32, 192, eps=1e-05, affine=True)\n",
       "          (conv1): Conv2d(192, 64, kernel_size=(3, 3), stride=(1, 1), padding=(1, 1))\n",
       "          (time_emb_proj): Linear(in_features=128, out_features=64, bias=True)\n",
       "          (norm2): GroupNorm(32, 64, eps=1e-05, affine=True)\n",
       "          (dropout): Dropout(p=0.0, inplace=False)\n",
       "          (conv2): Conv2d(64, 64, kernel_size=(3, 3), stride=(1, 1), padding=(1, 1))\n",
       "          (nonlinearity): SiLU()\n",
       "          (conv_shortcut): Conv2d(192, 64, kernel_size=(1, 1), stride=(1, 1))\n",
       "        )\n",
       "        (1): ResnetBlock2D(\n",
       "          (norm1): GroupNorm(32, 128, eps=1e-05, affine=True)\n",
       "          (conv1): Conv2d(128, 64, kernel_size=(3, 3), stride=(1, 1), padding=(1, 1))\n",
       "          (time_emb_proj): Linear(in_features=128, out_features=64, bias=True)\n",
       "          (norm2): GroupNorm(32, 64, eps=1e-05, affine=True)\n",
       "          (dropout): Dropout(p=0.0, inplace=False)\n",
       "          (conv2): Conv2d(64, 64, kernel_size=(3, 3), stride=(1, 1), padding=(1, 1))\n",
       "          (nonlinearity): SiLU()\n",
       "          (conv_shortcut): Conv2d(128, 64, kernel_size=(1, 1), stride=(1, 1))\n",
       "        )\n",
       "        (2): ResnetBlock2D(\n",
       "          (norm1): GroupNorm(32, 96, eps=1e-05, affine=True)\n",
       "          (conv1): Conv2d(96, 64, kernel_size=(3, 3), stride=(1, 1), padding=(1, 1))\n",
       "          (time_emb_proj): Linear(in_features=128, out_features=64, bias=True)\n",
       "          (norm2): GroupNorm(32, 64, eps=1e-05, affine=True)\n",
       "          (dropout): Dropout(p=0.0, inplace=False)\n",
       "          (conv2): Conv2d(64, 64, kernel_size=(3, 3), stride=(1, 1), padding=(1, 1))\n",
       "          (nonlinearity): SiLU()\n",
       "          (conv_shortcut): Conv2d(96, 64, kernel_size=(1, 1), stride=(1, 1))\n",
       "        )\n",
       "      )\n",
       "      (upsamplers): ModuleList(\n",
       "        (0): Upsample2D(\n",
       "          (conv): Conv2d(64, 64, kernel_size=(3, 3), stride=(1, 1), padding=(1, 1))\n",
       "        )\n",
       "      )\n",
       "    )\n",
       "    (3): UpBlock2D(\n",
       "      (resnets): ModuleList(\n",
       "        (0): ResnetBlock2D(\n",
       "          (norm1): GroupNorm(32, 96, eps=1e-05, affine=True)\n",
       "          (conv1): Conv2d(96, 32, kernel_size=(3, 3), stride=(1, 1), padding=(1, 1))\n",
       "          (time_emb_proj): Linear(in_features=128, out_features=32, bias=True)\n",
       "          (norm2): GroupNorm(32, 32, eps=1e-05, affine=True)\n",
       "          (dropout): Dropout(p=0.0, inplace=False)\n",
       "          (conv2): Conv2d(32, 32, kernel_size=(3, 3), stride=(1, 1), padding=(1, 1))\n",
       "          (nonlinearity): SiLU()\n",
       "          (conv_shortcut): Conv2d(96, 32, kernel_size=(1, 1), stride=(1, 1))\n",
       "        )\n",
       "        (1-2): 2 x ResnetBlock2D(\n",
       "          (norm1): GroupNorm(32, 64, eps=1e-05, affine=True)\n",
       "          (conv1): Conv2d(64, 32, kernel_size=(3, 3), stride=(1, 1), padding=(1, 1))\n",
       "          (time_emb_proj): Linear(in_features=128, out_features=32, bias=True)\n",
       "          (norm2): GroupNorm(32, 32, eps=1e-05, affine=True)\n",
       "          (dropout): Dropout(p=0.0, inplace=False)\n",
       "          (conv2): Conv2d(32, 32, kernel_size=(3, 3), stride=(1, 1), padding=(1, 1))\n",
       "          (nonlinearity): SiLU()\n",
       "          (conv_shortcut): Conv2d(64, 32, kernel_size=(1, 1), stride=(1, 1))\n",
       "        )\n",
       "      )\n",
       "    )\n",
       "  )\n",
       "  (mid_block): UNetMidBlock2D(\n",
       "    (attentions): ModuleList(\n",
       "      (0): Attention(\n",
       "        (group_norm): GroupNorm(32, 256, eps=1e-05, affine=True)\n",
       "        (to_q): Linear(in_features=256, out_features=256, bias=True)\n",
       "        (to_k): Linear(in_features=256, out_features=256, bias=True)\n",
       "        (to_v): Linear(in_features=256, out_features=256, bias=True)\n",
       "        (to_out): ModuleList(\n",
       "          (0): Linear(in_features=256, out_features=256, bias=True)\n",
       "          (1): Dropout(p=0.0, inplace=False)\n",
       "        )\n",
       "      )\n",
       "    )\n",
       "    (resnets): ModuleList(\n",
       "      (0-1): 2 x ResnetBlock2D(\n",
       "        (norm1): GroupNorm(32, 256, eps=1e-05, affine=True)\n",
       "        (conv1): Conv2d(256, 256, kernel_size=(3, 3), stride=(1, 1), padding=(1, 1))\n",
       "        (time_emb_proj): Linear(in_features=128, out_features=256, bias=True)\n",
       "        (norm2): GroupNorm(32, 256, eps=1e-05, affine=True)\n",
       "        (dropout): Dropout(p=0.0, inplace=False)\n",
       "        (conv2): Conv2d(256, 256, kernel_size=(3, 3), stride=(1, 1), padding=(1, 1))\n",
       "        (nonlinearity): SiLU()\n",
       "      )\n",
       "    )\n",
       "  )\n",
       "  (conv_norm_out): GroupNorm(32, 32, eps=1e-05, affine=True)\n",
       "  (conv_act): SiLU()\n",
       "  (conv_out): Conv2d(32, 1, kernel_size=(3, 3), stride=(1, 1), padding=(1, 1))\n",
       ")"
      ]
     },
     "execution_count": 11,
     "metadata": {},
     "output_type": "execute_result"
    }
   ],
   "source": [
    "base_model = UNet2DModel(\n",
    "    in_channels=1,  # 1 channels for grey scale\n",
    "    out_channels=1,\n",
    "    sample_size=32,  # Specify our input size\n",
    "    # The number of channels per block affects the model size\n",
    "    block_out_channels=(32, 64, 128, 256),\n",
    "    down_block_types=(\n",
    "        \"DownBlock2D\",\n",
    "        \"DownBlock2D\",\n",
    "        \"AttnDownBlock2D\",\n",
    "        \"AttnDownBlock2D\",\n",
    "    ),\n",
    "    up_block_types=(\n",
    "        \"AttnUpBlock2D\",\n",
    "        \"AttnUpBlock2D\",\n",
    "        \"UpBlock2D\",\n",
    "        \"UpBlock2D\"\n",
    "        ),\n",
    "\n",
    ").cuda()\n",
    "\n",
    "base_model.load_state_dict(torch.load(\"Base_model_OOD_detection.pth\",weights_only=True))\n",
    "base_model.eval()"
   ]
  },
  {
   "cell_type": "code",
   "execution_count": 12,
   "id": "3b10c55c",
   "metadata": {},
   "outputs": [],
   "source": [
    "def new_scheduler(num_timesteps:int):\n",
    "    scheduler = PNDMScheduler(\n",
    "        num_train_timesteps=1000, beta_start=0.0015, beta_end=0.0195\n",
    "    )\n",
    "    scheduler.set_timesteps(num_timesteps)# Especificamos el nº de pasos de inferencia que usaremos\n",
    "\n",
    "    return scheduler\n",
    "\n",
    "scheduler = new_scheduler(50)"
   ]
  },
  {
   "cell_type": "markdown",
   "id": "f4146dcf",
   "metadata": {},
   "source": [
    "# Generación de imágenes"
   ]
  },
  {
   "cell_type": "code",
   "execution_count": 13,
   "id": "cc4b9a38",
   "metadata": {},
   "outputs": [],
   "source": [
    "def PNDM_generation_loop(input_img:torch.Tensor, input_timestep : int, model: UNet2DModel, scheduler : PNDMScheduler):\n",
    "\n",
    "    if input_img.dim() != 4:     # Control de Errores\n",
    "        raise SyntaxError(\"Error de Dimensiones. El Tensor de entrada dbe tener 4 dimensions, siendo la primera la dimensión de lote\")\n",
    "    \n",
    "    noisy_x = input_img\n",
    "\n",
    "    if input_timestep < 0 or input_timestep > 1000: # Control de Errores\n",
    "        raise SyntaxError(\"El timestep debe estar entre 0 y 1000\")\n",
    "    \n",
    "    if input_timestep == 1000:  # Si el Timestep es de 1000, se genera una imagen desde cero\n",
    "        idx = 0\n",
    "    else:                       # Si no es de 1000, se comienza desde el punto correspondiente, con los datos de la imagen deseada\n",
    "        idx = torch.where(scheduler.timesteps == input_timestep)[0][0]  # Buscamos el indice del timestep en la lista del scheduler\n",
    "\n",
    "    for t in scheduler.timesteps[idx:]:     # Iteramos sobre la lista del scheduler. Cada elemento es uno de los timesteps de la cadena\n",
    "\n",
    "        with torch.inference_mode():        # Realizamos un paso de la iteración\n",
    "            noise_pred = model(noisy_x, t,return_dict=False)[0]\n",
    "\n",
    "        scheduler_output = scheduler.step(noise_pred, t, noisy_x)   # Paso del scheduler\n",
    "\n",
    "        noisy_x = scheduler_output.prev_sample                      # Realimentamos el bucle\n",
    "    \n",
    "    return(scheduler_output.prev_sample)  # Devolvemos el resultado."
   ]
  },
  {
   "cell_type": "markdown",
   "id": "36e43d8c",
   "metadata": {},
   "source": [
    "# Métricas"
   ]
  },
  {
   "cell_type": "code",
   "execution_count": 14,
   "id": "c23bb646",
   "metadata": {},
   "outputs": [],
   "source": [
    "from torchmetrics.functional import mean_squared_error as MSE\n",
    "from torchmetrics.functional.image.lpips import learned_perceptual_image_patch_similarity as LPIPS"
   ]
  },
  {
   "cell_type": "code",
   "execution_count": 15,
   "id": "67deb7e5",
   "metadata": {},
   "outputs": [],
   "source": [
    "def prepare_to_lpips(img:torch.tensor): # Prepara una imagen para poder realizar una métrica de LPIPS: size(N, 3, H, W) y valores entre -1 y 1\n",
    "\n",
    "    max,min = img.max(),img.min()\n",
    "    normalized =  2* ( ((img-min) / (max-min)) - 0.5)\n",
    "\n",
    "    output = normalized.repeat(1,3,1,1)\n",
    "\n",
    "    return output"
   ]
  },
  {
   "cell_type": "markdown",
   "id": "dfff3191",
   "metadata": {},
   "source": [
    "# Detección de OODs\n",
    "1. Obtenemos una imagen de cada dataset, OOD e ID (FashionMNIST volteado verticalmente y FashionMNIST)\n",
    "2. Realizamos las N restauraciones de la imagen.\n",
    "    * Generamos ruido gaussiano\n",
    "    * Añadimos el ruido según los timesteps dados\n",
    "    * Realizamos la restauración con nuestra red\n",
    "    * Calculamos las métricas\n",
    "3. Calculamos el z-score con los datos recopilados anteriormente\n",
    "4. Promediamos los z-scores\n",
    "\n",
    "5. Comparamos los z-scores para averiguar si la imagen pertenece o no al dataset"
   ]
  },
  {
   "cell_type": "code",
   "execution_count": 16,
   "id": "769adeba",
   "metadata": {},
   "outputs": [
    {
     "data": {
      "image/png": "[encoded data removed]",
      "text/plain": [
       "<Figure size 640x480 with 1 Axes>"
      ]
     },
     "metadata": {},
     "output_type": "display_data"
    }
   ],
   "source": [
    "OOD_img = next(iter(OOD_dataloader))[\"image\"][0].cuda()\n",
    "ID_img = next(iter(ID_dataloader))[\"image\"][0].cuda()\n",
    "show_images_list([OOD_img.cpu(), ID_img.cpu()])"
   ]
  },
  {
   "cell_type": "code",
   "execution_count": 17,
   "id": "f459275f",
   "metadata": {},
   "outputs": [],
   "source": [
    "N = 50      # Número de restauraciones que se realizarán\n",
    "\n",
    "# noise_a = torch.randn_like(OOD_img)\n",
    "# noise_b = torch.randn_like(ID_img)\n",
    "\n",
    "timesetps = torch.arange(1000,0,(0-1000)/N,dtype=torch.int)"
   ]
  },
  {
   "cell_type": "code",
   "execution_count": 18,
   "id": "7d8d1029",
   "metadata": {},
   "outputs": [],
   "source": [
    "def OOD_detection_restoration(img : torch.Tensor, timesetps:torch.Tensor):\n",
    "\n",
    "    scheduler = new_scheduler(50)\n",
    "\n",
    "    img = img.cuda()\n",
    "    if img.dim() != 4:\n",
    "        raise SyntaxError(\"Error: Las imágenes deben tener dimensión de lote (batch dimension)\")\n",
    "\n",
    "    restored_images = []\n",
    "    MSE_base_list = []\n",
    "    LPIPS_base_list = []\n",
    "\n",
    "    lpips_img = prepare_to_lpips(img)\n",
    "\n",
    "    for step in timesetps:\n",
    "        \n",
    "        noise = torch.randn_like(img)\n",
    "        if step == 1000:\n",
    "            new_imgs = noise\n",
    "        else:\n",
    "            new_imgs = scheduler.add_noise(img,noise,torch.ones((len(img)),dtype=torch.int)*step)\n",
    "\n",
    "        restoration = PNDM_generation_loop(new_imgs,step,base_model,scheduler)\n",
    "        restored_images.append(restoration)\n",
    "\n",
    "        individual_MSE = []\n",
    "        individual_LPIPS = []\n",
    "        \n",
    "        for idx,imagen in enumerate(restoration):\n",
    "            individual_MSE.append(MSE(imagen,img[idx]).cpu())\n",
    "\n",
    "            lpips_restoration = prepare_to_lpips(imagen)\n",
    "            individual_LPIPS.append(LPIPS(lpips_restoration,lpips_img[idx].unsqueeze(0)).cpu())\n",
    "\n",
    "        MSE_base_list.append(individual_MSE)\n",
    "        LPIPS_base_list.append(individual_LPIPS)\n",
    "\n",
    "\n",
    "    restored_images = torch.stack(restored_images).swapaxes(0,1)\n",
    "    MSE_base_list = torch.stack([torch.stack(row) for row in MSE_base_list]).swapaxes(0,1)\n",
    "    LPIPS_base_list = torch.stack([torch.stack(row) for row in LPIPS_base_list]).swapaxes(0,1)\n",
    "\n",
    "    return (restored_images, MSE_base_list, LPIPS_base_list)"
   ]
  },
  {
   "cell_type": "code",
   "execution_count": null,
   "id": "36410cea",
   "metadata": {},
   "outputs": [],
   "source": [
    "OOD_restored_images, OOD_MSE_base, OOD_LPIPS_base = OOD_detection_restoration(OOD_img.unsqueeze(0),timesetps)\n",
    "\n",
    "ID_restored_images, ID_MSE_base, ID_LPIPS_base = OOD_detection_restoration(ID_img.unsqueeze(0),timesetps)"
   ]
  },
  {
   "cell_type": "code",
   "execution_count": null,
   "id": "29b6c2c9",
   "metadata": {},
   "outputs": [],
   "source": [
    "OOD_MSE_base.shape"
   ]
  },
  {
   "cell_type": "code",
   "execution_count": 19,
   "id": "faa89112",
   "metadata": {},
   "outputs": [],
   "source": [
    "def OOD_detection_zscore(MSE_base_list:torch.Tensor, LPIPS_base_list:torch.Tensor):\n",
    "\n",
    "    # Calculemos ahora el z-score de cada medida\n",
    "\n",
    "    if MSE_base_list.dim() != 2:\n",
    "        raise SyntaxError(\"Error: El Tensor con los datos debe tener 2 dimensiones: Dimensión de lote (batch) y nº de restauraciones\")\n",
    "    if LPIPS_base_list.dim() != 2:\n",
    "        raise SyntaxError(\"Error: El Tensor con los datos debe tener 2 dimensiones: Dimensión de lote (batch) y nº de restauraciones\")\n",
    "\n",
    "    if MSE_base_list.shape != LPIPS_base_list.shape:\n",
    "        raise SyntaxError(\"Error: Los tensores de entrada deben tener el mismo tamaño\")\n",
    "\n",
    "\n",
    "    MSE_zscore = torch.empty_like(MSE_base_list)\n",
    "    LPIPS_zscore = torch.empty_like(MSE_base_list)\n",
    "\n",
    "\n",
    "    for idx_1,data in enumerate(MSE_base_list):\n",
    "        for idx_2,step_data in enumerate(data):\n",
    "            mean,std = MSE_distribution_list[idx_2]\n",
    "            zscore = (abs(step_data-mean))/std\n",
    "        \n",
    "            MSE_zscore[idx_1,idx_2] = zscore\n",
    "\n",
    "\n",
    "    for idx_1,data in enumerate(LPIPS_base_list):\n",
    "        for idx_2,step_data in enumerate(data):\n",
    "            mean,std = MSE_distribution_list[idx_2]\n",
    "            zscore = (abs(step_data-mean))/std\n",
    "        \n",
    "            LPIPS_zscore[idx_1,idx_2] = zscore\n",
    "\n",
    "    OOD_score = torch.stack((MSE_zscore,LPIPS_zscore))\n",
    "\n",
    "    return (MSE_zscore,LPIPS_zscore, OOD_score.mean((0,2)))"
   ]
  },
  {
   "cell_type": "code",
   "execution_count": null,
   "id": "468fddf5",
   "metadata": {},
   "outputs": [],
   "source": [
    "OOD_MSE_zscore,OOD_LPIPS_zscore,OOD_general_zscore = OOD_detection_zscore(OOD_MSE_base,OOD_LPIPS_base)\n",
    "ID_MSE_zscore,ID_LPIPS_zscore,ID_general_zscore = OOD_detection_zscore(ID_MSE_base,ID_LPIPS_base)"
   ]
  },
  {
   "cell_type": "code",
   "execution_count": null,
   "id": "35417209",
   "metadata": {},
   "outputs": [],
   "source": [
    "OOD_general_zscore"
   ]
  },
  {
   "cell_type": "code",
   "execution_count": null,
   "id": "7b610266",
   "metadata": {},
   "outputs": [],
   "source": [
    "ID_general_zscore"
   ]
  },
  {
   "cell_type": "code",
   "execution_count": null,
   "id": "8f456355",
   "metadata": {},
   "outputs": [],
   "source": [
    "show_images(OOD_restored_images.squeeze(0)[::5].cpu())"
   ]
  },
  {
   "cell_type": "code",
   "execution_count": null,
   "id": "2766d834",
   "metadata": {},
   "outputs": [],
   "source": [
    "show_images(ID_restored_images.squeeze(0)[::5].cpu())"
   ]
  },
  {
   "cell_type": "markdown",
   "id": "5c65c8c6",
   "metadata": {},
   "source": [
    "# Vamos a calcular la curva ROC"
   ]
  },
  {
   "cell_type": "code",
   "execution_count": 20,
   "id": "6dfd31a8",
   "metadata": {},
   "outputs": [],
   "source": [
    "class labeled_dataset(torch.utils.data.Dataset):\n",
    "\n",
    "    def __init__(self,dataset:torch.utils.data.Dataset,category:str):\n",
    "        self.dataset = dataset\n",
    "        self.category = category\n",
    "\n",
    "    def __len__(self):\n",
    "        return(len(self.dataset))\n",
    "    \n",
    "    def __getitem__(self, index):\n",
    "        \n",
    "        img = self.dataset[index][\"image\"]\n",
    "        data = {\n",
    "            \"image\" : img,\n",
    "            \"category\": self.category\n",
    "        }\n",
    "        if type(index) == slice:\n",
    "            data = {\n",
    "                \"image\" : img,\n",
    "                \"category\": [self.category for _ in range(len(img))]\n",
    "            }\n",
    "        return data\n",
    "    \n",
    "    "
   ]
  },
  {
   "cell_type": "code",
   "execution_count": 21,
   "id": "93cb2761",
   "metadata": {},
   "outputs": [],
   "source": [
    "ID_dataset = labeled_dataset(dataset[\"train\"].with_transform(dataset_preprocess),\"ID\")\n",
    "new_OOD_dataset = labeled_dataset(dataset[\"test\"].with_transform(dataset_OOD_preprocess),\"OOD\")"
   ]
  },
  {
   "cell_type": "code",
   "execution_count": null,
   "id": "c046a038",
   "metadata": {},
   "outputs": [],
   "source": [
    "# ID_dataset = labeled_dataset(dataset[\"train\"].with_transform(dataset_preprocess),\"ID\")\n",
    "# new_OOD_dataset = labeled_dataset(dataset_ood[\"test\"].with_transform(dataset_preprocess),\"OOD\")"
   ]
  },
  {
   "cell_type": "code",
   "execution_count": 22,
   "id": "e639f6df",
   "metadata": {},
   "outputs": [
    {
     "data": {
      "text/plain": [
       "12000"
      ]
     },
     "execution_count": 22,
     "metadata": {},
     "output_type": "execute_result"
    }
   ],
   "source": [
    "ID_split,_ = torch.utils.data.random_split(ID_dataset,(0.1,0.9))\n",
    "OOD_split,_ = torch.utils.data.random_split(new_OOD_dataset,(0.6,0.4))\n",
    "random_dataset = torch.utils.data.ConcatDataset((ID_split,OOD_split))\n",
    "len(random_dataset)"
   ]
  },
  {
   "cell_type": "code",
   "execution_count": 23,
   "id": "473ec615",
   "metadata": {},
   "outputs": [
    {
     "data": {
      "text/plain": [
       "torch.Size([100, 1, 32, 32])"
      ]
     },
     "execution_count": 23,
     "metadata": {},
     "output_type": "execute_result"
    }
   ],
   "source": [
    "dataloader = torch.utils.data.DataLoader(\n",
    "    random_dataset,\n",
    "    batch_size=100,\n",
    "    shuffle=True\n",
    ")\n",
    "\n",
    "random_data = next(iter(dataloader))\n",
    "\n",
    "random_data[\"image\"].shape"
   ]
  },
  {
   "cell_type": "code",
   "execution_count": 24,
   "id": "11fe7f7a",
   "metadata": {},
   "outputs": [
    {
     "data": {
      "text/plain": [
       "['ID',\n",
       " 'ID',\n",
       " 'ID',\n",
       " 'OOD',\n",
       " 'OOD',\n",
       " 'OOD',\n",
       " 'ID',\n",
       " 'OOD',\n",
       " 'ID',\n",
       " 'ID',\n",
       " 'OOD',\n",
       " 'OOD',\n",
       " 'ID',\n",
       " 'OOD',\n",
       " 'ID',\n",
       " 'OOD',\n",
       " 'ID',\n",
       " 'OOD',\n",
       " 'ID',\n",
       " 'ID',\n",
       " 'OOD',\n",
       " 'OOD',\n",
       " 'OOD',\n",
       " 'ID',\n",
       " 'ID',\n",
       " 'ID',\n",
       " 'ID',\n",
       " 'ID',\n",
       " 'OOD',\n",
       " 'ID',\n",
       " 'ID',\n",
       " 'OOD',\n",
       " 'OOD',\n",
       " 'ID',\n",
       " 'ID',\n",
       " 'ID',\n",
       " 'OOD',\n",
       " 'ID',\n",
       " 'OOD',\n",
       " 'ID',\n",
       " 'OOD',\n",
       " 'OOD',\n",
       " 'ID',\n",
       " 'OOD',\n",
       " 'OOD',\n",
       " 'ID',\n",
       " 'ID',\n",
       " 'OOD',\n",
       " 'OOD',\n",
       " 'ID',\n",
       " 'OOD',\n",
       " 'ID',\n",
       " 'OOD',\n",
       " 'ID',\n",
       " 'ID',\n",
       " 'ID',\n",
       " 'OOD',\n",
       " 'OOD',\n",
       " 'ID',\n",
       " 'ID',\n",
       " 'ID',\n",
       " 'ID',\n",
       " 'ID',\n",
       " 'ID',\n",
       " 'ID',\n",
       " 'ID',\n",
       " 'OOD',\n",
       " 'OOD',\n",
       " 'OOD',\n",
       " 'OOD',\n",
       " 'ID',\n",
       " 'OOD',\n",
       " 'ID',\n",
       " 'ID',\n",
       " 'OOD',\n",
       " 'OOD',\n",
       " 'OOD',\n",
       " 'ID',\n",
       " 'ID',\n",
       " 'OOD',\n",
       " 'OOD',\n",
       " 'ID',\n",
       " 'OOD',\n",
       " 'OOD',\n",
       " 'ID',\n",
       " 'OOD',\n",
       " 'ID',\n",
       " 'ID',\n",
       " 'ID',\n",
       " 'OOD',\n",
       " 'OOD',\n",
       " 'ID',\n",
       " 'ID',\n",
       " 'OOD',\n",
       " 'ID',\n",
       " 'OOD',\n",
       " 'OOD',\n",
       " 'ID',\n",
       " 'OOD',\n",
       " 'OOD']"
      ]
     },
     "execution_count": 24,
     "metadata": {},
     "output_type": "execute_result"
    }
   ],
   "source": [
    "random_data[\"category\"]"
   ]
  },
  {
   "cell_type": "code",
   "execution_count": 25,
   "id": "083d1fe4",
   "metadata": {},
   "outputs": [],
   "source": [
    "random_img,random_MSE,random_LPIPS = OOD_detection_restoration(random_data[\"image\"].cuda(),timesetps)"
   ]
  },
  {
   "cell_type": "code",
   "execution_count": 27,
   "id": "f0b058db",
   "metadata": {},
   "outputs": [
    {
     "data": {
      "text/plain": [
       "'OOD'"
      ]
     },
     "execution_count": 27,
     "metadata": {},
     "output_type": "execute_result"
    },
    {
     "data": {
      "image/png": "[encoded data removed]",
      "text/plain": [
       "<Figure size 640x480 with 1 Axes>"
      ]
     },
     "metadata": {},
     "output_type": "display_data"
    }
   ],
   "source": [
    "show_images(random_img[3][::5].cpu())\n",
    "random_data[\"category\"][3]"
   ]
  },
  {
   "cell_type": "code",
   "execution_count": 28,
   "id": "c38f4f0f",
   "metadata": {},
   "outputs": [],
   "source": [
    "random_MSE_zscore, random_LPIPS_zscore, random_OOD_score = OOD_detection_zscore(random_MSE,random_LPIPS)\n",
    "tidy_OOD_scores, tidy_OOD_idx = random_OOD_score.sort(0)"
   ]
  },
  {
   "cell_type": "code",
   "execution_count": 29,
   "id": "3343c63e",
   "metadata": {},
   "outputs": [
    {
     "data": {
      "text/plain": [
       "tensor([ 5.9599,  5.9999,  6.3823,  6.4122,  6.4807,  6.5578,  6.6445,  6.6527,\n",
       "         6.6775,  6.7230,  6.7376,  6.7408,  6.7781,  6.7791,  6.7800,  6.8818,\n",
       "         6.9303,  7.0207,  7.0279,  7.0409,  7.0465,  7.0516,  7.0664,  7.0735,\n",
       "         7.0809,  7.0884,  7.0946,  7.1037,  7.2441,  7.2574,  7.2583,  7.2653,\n",
       "         7.2725,  7.2752,  7.3012,  7.3228,  7.3353,  7.3375,  7.3852,  7.4091,\n",
       "         7.4380,  7.5933,  7.6453,  7.6546,  7.6607,  7.7249,  7.7467,  7.8019,\n",
       "         7.8678,  7.8892,  7.9048,  7.9265,  8.0334,  8.0342,  8.0359,  8.0898,\n",
       "         8.0971,  8.1806,  8.2604,  8.2649,  8.3140,  8.3946,  8.4764,  8.5098,\n",
       "         8.5194,  8.5830,  8.5883,  8.5962,  8.6811,  8.6871,  8.6953,  8.7149,\n",
       "         8.7694,  8.7950,  8.8342,  8.8893,  8.9144,  8.9699,  8.9891,  9.0794,\n",
       "         9.2507,  9.4974,  9.7591,  9.7743,  9.7816,  9.8442, 10.0902, 10.1932,\n",
       "        10.2453, 10.6298, 10.7734, 10.8389, 11.2293, 11.5019, 11.5255, 11.6054,\n",
       "        11.6812, 11.8825, 13.1061, 15.6509])"
      ]
     },
     "execution_count": 29,
     "metadata": {},
     "output_type": "execute_result"
    }
   ],
   "source": [
    "tidy_OOD_scores"
   ]
  },
  {
   "cell_type": "code",
   "execution_count": 30,
   "id": "5aed6ade",
   "metadata": {},
   "outputs": [],
   "source": [
    "TPR = []    # Tasa de Verdaderos Positivos \n",
    "FPR = []    # Tasa de Falsos Positivos \n",
    "\n",
    "for idx in range(len(tidy_OOD_idx)):\n",
    "    \n",
    "    ID_idx     = tidy_OOD_idx[:idx]\n",
    "    \n",
    "    OOD_idx     = tidy_OOD_idx[idx:]\n",
    "\n",
    "    True_OOD = 0\n",
    "    False_OOD = 0\n",
    "    True_ID = 0\n",
    "    False_ID = 0\n",
    "    \n",
    "    for index in OOD_idx:\n",
    "        True_OOD += int(random_data[\"category\"][index] == \"OOD\")\n",
    "        False_OOD += int(random_data[\"category\"][index] == \"ID\")\n",
    "\n",
    "\n",
    "    for index in ID_idx:\n",
    "        True_ID += int(random_data[\"category\"][index] == \"ID\")\n",
    "        False_ID += int(random_data[\"category\"][index] == \"OOD\")\n",
    "\n",
    "    TPR_data = True_OOD/(True_OOD+False_ID)\n",
    "    TPR.append(TPR_data)\n",
    "\n",
    "    FPR_data = False_OOD/(False_OOD+True_ID)\n",
    "    FPR.append(FPR_data)"
   ]
  },
  {
   "cell_type": "code",
   "execution_count": 31,
   "id": "69573c5f",
   "metadata": {},
   "outputs": [
    {
     "data": {
      "image/png": "[encoded data removed]",
      "text/plain": [
       "<Figure size 640x480 with 1 Axes>"
      ]
     },
     "metadata": {},
     "output_type": "display_data"
    }
   ],
   "source": [
    "plt.plot(FPR,TPR, \"*-\")\n",
    "plt.grid()\n",
    "plt.xlabel(\"FPR: Tasa de Falsos Positivos\");\n",
    "plt.ylabel(\"TPR: Tasa de Verdaderos Positivos\");\n",
    "plt.title(\"Curva ROC\");"
   ]
  },
  {
   "cell_type": "code",
   "execution_count": 32,
   "id": "17b5d149",
   "metadata": {},
   "outputs": [
    {
     "data": {
      "text/plain": [
       "0.5949417904456041"
      ]
     },
     "execution_count": 32,
     "metadata": {},
     "output_type": "execute_result"
    }
   ],
   "source": [
    "from sklearn.metrics import auc\n",
    "auc(FPR,TPR)"
   ]
  }
 ],
 "metadata": {
  "kernelspec": {
   "display_name": ".venv",
   "language": "python",
   "name": "python3"
  },
  "language_info": {
   "codemirror_mode": {
    "name": "ipython",
    "version": 3
   },
   "file_extension": ".py",
   "mimetype": "text/x-python",
   "name": "python",
   "nbconvert_exporter": "python",
   "pygments_lexer": "ipython3",
   "version": "3.11.11"
  }
 },
 "nbformat": 4,
 "nbformat_minor": 5
}
