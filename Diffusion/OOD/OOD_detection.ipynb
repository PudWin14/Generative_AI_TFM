{
 "cells": [
  {
   "cell_type": "markdown",
   "id": "76d5fad0",
   "metadata": {},
   "source": [
    "## Detección de Out-of-Distribution (OOD)\n",
    "La comprobación de los elementos fuera de distribución, es decir, de imágenes que no pertenezcan al dataset utilizado, es un elemento crucial para el despliegue de sistemas de Machine-Learning, concretamente, los sistemas no supervisados."
   ]
  },
  {
   "cell_type": "markdown",
   "id": "a87fa880",
   "metadata": {},
   "source": [
    "En este código, vamos a implementar la metodología del paper \"Denoising diffusion models for out-of-distribution detection\" para la detección de estas imágenes."
   ]
  },
  {
   "cell_type": "markdown",
   "id": "b6374428",
   "metadata": {},
   "source": [
    "# Importación de Librerías"
   ]
  },
  {
   "cell_type": "code",
   "execution_count": 1,
   "id": "e25dc635",
   "metadata": {},
   "outputs": [],
   "source": [
    "import torch\n",
    "from torch.nn import functional as F\n",
    "from diffusers import PNDMScheduler, UNet2DModel\n",
    "# from diffusers import schedulers\n",
    "# from PIL import Image\n",
    "\n",
    "import matplotlib.pyplot as plt\n",
    "from datasets import load_dataset\n",
    "from torchvision import transforms"
   ]
  },
  {
   "cell_type": "markdown",
   "id": "e0f20e65",
   "metadata": {},
   "source": [
    "# Funciones auxiliares necesarias"
   ]
  },
  {
   "cell_type": "code",
   "execution_count": 2,
   "id": "4e63c961",
   "metadata": {},
   "outputs": [],
   "source": [
    "def show_images(images_tensor:torch.tensor, cmap = \"grey\"):\n",
    "    n_dims = images_tensor.dim()\n",
    "    \n",
    "    if n_dims in (2,3):\n",
    "        x_cat = images_tensor\n",
    "\n",
    "    elif n_dims == 4:\n",
    "        x_list = [img for img in images_tensor]\n",
    "        x_cat = torch.cat(x_list,dim=2)\n",
    "    \n",
    "    else:\n",
    "        raise SyntaxError(\"The dimensions of images_tensor must be between 2 and 4\")\n",
    "\n",
    "    if n_dims != 2:\n",
    "        if x_cat.shape[0] == 1:\n",
    "            plt.imshow(x_cat.movedim(0,-1),cmap);\n",
    "        else:\n",
    "            plt.imshow(x_cat.movedim(0,-1));\n",
    "    else:\n",
    "        plt.imshow(x_cat,cmap);"
   ]
  },
  {
   "cell_type": "code",
   "execution_count": 3,
   "id": "23e33fd8",
   "metadata": {},
   "outputs": [],
   "source": [
    "def show_images_list(images_list:list[torch.Tensor], cmap = \"grey\") -> None:\n",
    "\n",
    "    images_tensor = torch.concat(images_list,dim=0)\n",
    "\n",
    "    # return images_tensor\n",
    "    # show_images(images_tensor.unsqueeze(1))\n",
    "    show_images(images_tensor.unsqueeze(1),cmap)\n"
   ]
  },
  {
   "cell_type": "markdown",
   "id": "cbb65f65",
   "metadata": {},
   "source": [
    "# Dataset\n",
    "Usaremos fashionMNIST como dataset de datos En Distribución (IOD) y sus versiones Volteadas como dataset Fuera de Distribución (OOD)\n",
    "\n",
    "De momento, solamente vamos a entrenar a la red, por lo que no necesitaremos las distribuciones OOD"
   ]
  },
  {
   "cell_type": "markdown",
   "id": "f11abf55",
   "metadata": {},
   "source": [
    "## Imágenes del para el dataset original: FashionMNIST"
   ]
  },
  {
   "cell_type": "code",
   "execution_count": null,
   "id": "c21108d3",
   "metadata": {},
   "outputs": [],
   "source": [
    "preprocess = transforms.Compose([\n",
    "    transforms.ToTensor(),              #To Torch Tensor\n",
    "    transforms.Pad(2),                  # Add a padding of 2 pixels\n",
    "    transforms.Normalize([0.5], [0.5])  # Normalize to (-1,1)\n",
    "])\n",
    "\n",
    "def dataset_preprocess(examples):\n",
    "    images = [preprocess(example) for example in examples[\"image\"]]\n",
    "    return {\"images\": images}"
   ]
  },
  {
   "cell_type": "code",
   "execution_count": 5,
   "id": "a08366d4",
   "metadata": {},
   "outputs": [],
   "source": [
    "dataset = load_dataset(\"fashion_mnist\")\n",
    "\n",
    "_,test_dataset = torch.utils.data.random_split(dataset[\"train\"].with_transform(dataset_preprocess),(0.8,0.2))\n",
    "\n",
    "# val_dataset = torch.utils.data.random_split(dataset[\"test\"].with_transform(dataset_preprocess),(1,))[0]\n"
   ]
  },
  {
   "cell_type": "code",
   "execution_count": 6,
   "id": "5ea0d188",
   "metadata": {},
   "outputs": [],
   "source": [
    "# train_dataloder = torch.utils.data.DataLoader(\n",
    "#     train_dataset,\n",
    "#     shuffle=True,\n",
    "#     batch_size=256\n",
    "# )\n",
    "IOD_dataloder = torch.utils.data.DataLoader(\n",
    "    test_dataset,\n",
    "    shuffle=True,\n",
    "    batch_size=256\n",
    ")\n",
    "# val_dataloder = torch.utils.data.DataLoader(\n",
    "#     val_dataset,\n",
    "#     shuffle=True,\n",
    "#     batch_size=256\n",
    "# )"
   ]
  },
  {
   "cell_type": "markdown",
   "id": "24ee833d",
   "metadata": {},
   "source": [
    "## Imágenes del para el dataset de pruebas: FashionMNIST volteado verticalmente"
   ]
  },
  {
   "cell_type": "code",
   "execution_count": 7,
   "id": "278e44f8",
   "metadata": {},
   "outputs": [],
   "source": [
    "OOD_preprocess = transforms.Compose([\n",
    "    transforms.ToTensor(),              #To Torch Tensor\n",
    "    transforms.RandomVerticalFlip(1),   # Vertical flip all the images\n",
    "    transforms.Pad(2),                  # Add a padding of 2 pixels\n",
    "    transforms.Normalize([0.5], [0.5])  # Normalize to (-1,1)\n",
    "])\n",
    "\n",
    "def dataset_OOD_preprocess(examples):\n",
    "    images = [OOD_preprocess(example) for example in examples[\"image\"]]\n",
    "    return {\"images\": images}"
   ]
  },
  {
   "cell_type": "code",
   "execution_count": 72,
   "id": "1df82a5e",
   "metadata": {},
   "outputs": [],
   "source": [
    "OOD_dataset,_ = torch.utils.data.random_split(dataset[\"train\"].with_transform(dataset_OOD_preprocess),(0.5,0.5))\n",
    "\n",
    "OOD_dataloader = torch.utils.data.DataLoader(\n",
    "    OOD_dataset,\n",
    "    shuffle=True,\n",
    "    batch_size=256\n",
    ")"
   ]
  },
  {
   "cell_type": "code",
   "execution_count": 9,
   "id": "feaaf4ab",
   "metadata": {},
   "outputs": [
    {
     "data": {
      "text/plain": [
       "Text(0.5, 1.0, 'Imágenes fuera y dentro de distribución')"
      ]
     },
     "execution_count": 9,
     "metadata": {},
     "output_type": "execute_result"
    },
    {
     "data": {
      "image/png": "[encoded data removed]",
      "text/plain": [
       "<Figure size 640x480 with 1 Axes>"
      ]
     },
     "metadata": {},
     "output_type": "display_data"
    }
   ],
   "source": [
    "# show_images(next(iter(OOD_dataloader))[\"images\"][5])\n",
    "\n",
    "show_images_list([next(iter(OOD_dataloader))[\"images\"][5], next(iter(IOD_dataloder))[\"images\"][5]])\n",
    "plt.title(\"Imágenes fuera y dentro de distribución\")"
   ]
  },
  {
   "cell_type": "markdown",
   "id": "8874fb2e",
   "metadata": {},
   "source": [
    "## Lectura de datos de base\n",
    "Vamos a leer los datos de la distribución formada por las métricas para poder realizar el cálculo de los z-scores más adelante"
   ]
  },
  {
   "cell_type": "code",
   "execution_count": 10,
   "id": "5699c893",
   "metadata": {},
   "outputs": [],
   "source": [
    "import csv\n",
    "MSE_distribution_list = []\n",
    "LPIPS_distribution_list = []\n",
    "\n",
    "with open(\"Base_data_distribution.csv\",\"r\") as file:\n",
    "\n",
    "    reader = csv.reader(file)\n",
    "\n",
    "    for row in reader:\n",
    "        if row[0] == \"MSE_distribution\":\n",
    "            MSE_distribution_list.append(tuple([float(item) for item in row[1:]]))\n",
    "        \n",
    "        elif row[0] == \"LPIPS_distribution\":\n",
    "            LPIPS_distribution_list.append(tuple([float(item) for item in row[1:]]))\n",
    "\n",
    "        else:\n",
    "            raise ValueError(\"No se encuentra el nombre del tipo de dato en la primera columna\")"
   ]
  },
  {
   "cell_type": "markdown",
   "id": "984ed59a",
   "metadata": {},
   "source": [
    "# Modelo\n",
    "Importamos el Modelo del fichero de pesos"
   ]
  },
  {
   "cell_type": "code",
   "execution_count": 11,
   "id": "904a8dc4",
   "metadata": {},
   "outputs": [
    {
     "data": {
      "text/plain": [
       "UNet2DModel(\n",
       "  (conv_in): Conv2d(1, 32, kernel_size=(3, 3), stride=(1, 1), padding=(1, 1))\n",
       "  (time_proj): Timesteps()\n",
       "  (time_embedding): TimestepEmbedding(\n",
       "    (linear_1): Linear(in_features=32, out_features=128, bias=True)\n",
       "    (act): SiLU()\n",
       "    (linear_2): Linear(in_features=128, out_features=128, bias=True)\n",
       "  )\n",
       "  (down_blocks): ModuleList(\n",
       "    (0): DownBlock2D(\n",
       "      (resnets): ModuleList(\n",
       "        (0-1): 2 x ResnetBlock2D(\n",
       "          (norm1): GroupNorm(32, 32, eps=1e-05, affine=True)\n",
       "          (conv1): Conv2d(32, 32, kernel_size=(3, 3), stride=(1, 1), padding=(1, 1))\n",
       "          (time_emb_proj): Linear(in_features=128, out_features=32, bias=True)\n",
       "          (norm2): GroupNorm(32, 32, eps=1e-05, affine=True)\n",
       "          (dropout): Dropout(p=0.0, inplace=False)\n",
       "          (conv2): Conv2d(32, 32, kernel_size=(3, 3), stride=(1, 1), padding=(1, 1))\n",
       "          (nonlinearity): SiLU()\n",
       "        )\n",
       "      )\n",
       "      (downsamplers): ModuleList(\n",
       "        (0): Downsample2D(\n",
       "          (conv): Conv2d(32, 32, kernel_size=(3, 3), stride=(2, 2), padding=(1, 1))\n",
       "        )\n",
       "      )\n",
       "    )\n",
       "    (1): DownBlock2D(\n",
       "      (resnets): ModuleList(\n",
       "        (0): ResnetBlock2D(\n",
       "          (norm1): GroupNorm(32, 32, eps=1e-05, affine=True)\n",
       "          (conv1): Conv2d(32, 64, kernel_size=(3, 3), stride=(1, 1), padding=(1, 1))\n",
       "          (time_emb_proj): Linear(in_features=128, out_features=64, bias=True)\n",
       "          (norm2): GroupNorm(32, 64, eps=1e-05, affine=True)\n",
       "          (dropout): Dropout(p=0.0, inplace=False)\n",
       "          (conv2): Conv2d(64, 64, kernel_size=(3, 3), stride=(1, 1), padding=(1, 1))\n",
       "          (nonlinearity): SiLU()\n",
       "          (conv_shortcut): Conv2d(32, 64, kernel_size=(1, 1), stride=(1, 1))\n",
       "        )\n",
       "        (1): ResnetBlock2D(\n",
       "          (norm1): GroupNorm(32, 64, eps=1e-05, affine=True)\n",
       "          (conv1): Conv2d(64, 64, kernel_size=(3, 3), stride=(1, 1), padding=(1, 1))\n",
       "          (time_emb_proj): Linear(in_features=128, out_features=64, bias=True)\n",
       "          (norm2): GroupNorm(32, 64, eps=1e-05, affine=True)\n",
       "          (dropout): Dropout(p=0.0, inplace=False)\n",
       "          (conv2): Conv2d(64, 64, kernel_size=(3, 3), stride=(1, 1), padding=(1, 1))\n",
       "          (nonlinearity): SiLU()\n",
       "        )\n",
       "      )\n",
       "      (downsamplers): ModuleList(\n",
       "        (0): Downsample2D(\n",
       "          (conv): Conv2d(64, 64, kernel_size=(3, 3), stride=(2, 2), padding=(1, 1))\n",
       "        )\n",
       "      )\n",
       "    )\n",
       "    (2): AttnDownBlock2D(\n",
       "      (attentions): ModuleList(\n",
       "        (0-1): 2 x Attention(\n",
       "          (group_norm): GroupNorm(32, 128, eps=1e-05, affine=True)\n",
       "          (to_q): Linear(in_features=128, out_features=128, bias=True)\n",
       "          (to_k): Linear(in_features=128, out_features=128, bias=True)\n",
       "          (to_v): Linear(in_features=128, out_features=128, bias=True)\n",
       "          (to_out): ModuleList(\n",
       "            (0): Linear(in_features=128, out_features=128, bias=True)\n",
       "            (1): Dropout(p=0.0, inplace=False)\n",
       "          )\n",
       "        )\n",
       "      )\n",
       "      (resnets): ModuleList(\n",
       "        (0): ResnetBlock2D(\n",
       "          (norm1): GroupNorm(32, 64, eps=1e-05, affine=True)\n",
       "          (conv1): Conv2d(64, 128, kernel_size=(3, 3), stride=(1, 1), padding=(1, 1))\n",
       "          (time_emb_proj): Linear(in_features=128, out_features=128, bias=True)\n",
       "          (norm2): GroupNorm(32, 128, eps=1e-05, affine=True)\n",
       "          (dropout): Dropout(p=0.0, inplace=False)\n",
       "          (conv2): Conv2d(128, 128, kernel_size=(3, 3), stride=(1, 1), padding=(1, 1))\n",
       "          (nonlinearity): SiLU()\n",
       "          (conv_shortcut): Conv2d(64, 128, kernel_size=(1, 1), stride=(1, 1))\n",
       "        )\n",
       "        (1): ResnetBlock2D(\n",
       "          (norm1): GroupNorm(32, 128, eps=1e-05, affine=True)\n",
       "          (conv1): Conv2d(128, 128, kernel_size=(3, 3), stride=(1, 1), padding=(1, 1))\n",
       "          (time_emb_proj): Linear(in_features=128, out_features=128, bias=True)\n",
       "          (norm2): GroupNorm(32, 128, eps=1e-05, affine=True)\n",
       "          (dropout): Dropout(p=0.0, inplace=False)\n",
       "          (conv2): Conv2d(128, 128, kernel_size=(3, 3), stride=(1, 1), padding=(1, 1))\n",
       "          (nonlinearity): SiLU()\n",
       "        )\n",
       "      )\n",
       "      (downsamplers): ModuleList(\n",
       "        (0): Downsample2D(\n",
       "          (conv): Conv2d(128, 128, kernel_size=(3, 3), stride=(2, 2), padding=(1, 1))\n",
       "        )\n",
       "      )\n",
       "    )\n",
       "    (3): AttnDownBlock2D(\n",
       "      (attentions): ModuleList(\n",
       "        (0-1): 2 x Attention(\n",
       "          (group_norm): GroupNorm(32, 256, eps=1e-05, affine=True)\n",
       "          (to_q): Linear(in_features=256, out_features=256, bias=True)\n",
       "          (to_k): Linear(in_features=256, out_features=256, bias=True)\n",
       "          (to_v): Linear(in_features=256, out_features=256, bias=True)\n",
       "          (to_out): ModuleList(\n",
       "            (0): Linear(in_features=256, out_features=256, bias=True)\n",
       "            (1): Dropout(p=0.0, inplace=False)\n",
       "          )\n",
       "        )\n",
       "      )\n",
       "      (resnets): ModuleList(\n",
       "        (0): ResnetBlock2D(\n",
       "          (norm1): GroupNorm(32, 128, eps=1e-05, affine=True)\n",
       "          (conv1): Conv2d(128, 256, kernel_size=(3, 3), stride=(1, 1), padding=(1, 1))\n",
       "          (time_emb_proj): Linear(in_features=128, out_features=256, bias=True)\n",
       "          (norm2): GroupNorm(32, 256, eps=1e-05, affine=True)\n",
       "          (dropout): Dropout(p=0.0, inplace=False)\n",
       "          (conv2): Conv2d(256, 256, kernel_size=(3, 3), stride=(1, 1), padding=(1, 1))\n",
       "          (nonlinearity): SiLU()\n",
       "          (conv_shortcut): Conv2d(128, 256, kernel_size=(1, 1), stride=(1, 1))\n",
       "        )\n",
       "        (1): ResnetBlock2D(\n",
       "          (norm1): GroupNorm(32, 256, eps=1e-05, affine=True)\n",
       "          (conv1): Conv2d(256, 256, kernel_size=(3, 3), stride=(1, 1), padding=(1, 1))\n",
       "          (time_emb_proj): Linear(in_features=128, out_features=256, bias=True)\n",
       "          (norm2): GroupNorm(32, 256, eps=1e-05, affine=True)\n",
       "          (dropout): Dropout(p=0.0, inplace=False)\n",
       "          (conv2): Conv2d(256, 256, kernel_size=(3, 3), stride=(1, 1), padding=(1, 1))\n",
       "          (nonlinearity): SiLU()\n",
       "        )\n",
       "      )\n",
       "    )\n",
       "  )\n",
       "  (up_blocks): ModuleList(\n",
       "    (0): AttnUpBlock2D(\n",
       "      (attentions): ModuleList(\n",
       "        (0-2): 3 x Attention(\n",
       "          (group_norm): GroupNorm(32, 256, eps=1e-05, affine=True)\n",
       "          (to_q): Linear(in_features=256, out_features=256, bias=True)\n",
       "          (to_k): Linear(in_features=256, out_features=256, bias=True)\n",
       "          (to_v): Linear(in_features=256, out_features=256, bias=True)\n",
       "          (to_out): ModuleList(\n",
       "            (0): Linear(in_features=256, out_features=256, bias=True)\n",
       "            (1): Dropout(p=0.0, inplace=False)\n",
       "          )\n",
       "        )\n",
       "      )\n",
       "      (resnets): ModuleList(\n",
       "        (0-1): 2 x ResnetBlock2D(\n",
       "          (norm1): GroupNorm(32, 512, eps=1e-05, affine=True)\n",
       "          (conv1): Conv2d(512, 256, kernel_size=(3, 3), stride=(1, 1), padding=(1, 1))\n",
       "          (time_emb_proj): Linear(in_features=128, out_features=256, bias=True)\n",
       "          (norm2): GroupNorm(32, 256, eps=1e-05, affine=True)\n",
       "          (dropout): Dropout(p=0.0, inplace=False)\n",
       "          (conv2): Conv2d(256, 256, kernel_size=(3, 3), stride=(1, 1), padding=(1, 1))\n",
       "          (nonlinearity): SiLU()\n",
       "          (conv_shortcut): Conv2d(512, 256, kernel_size=(1, 1), stride=(1, 1))\n",
       "        )\n",
       "        (2): ResnetBlock2D(\n",
       "          (norm1): GroupNorm(32, 384, eps=1e-05, affine=True)\n",
       "          (conv1): Conv2d(384, 256, kernel_size=(3, 3), stride=(1, 1), padding=(1, 1))\n",
       "          (time_emb_proj): Linear(in_features=128, out_features=256, bias=True)\n",
       "          (norm2): GroupNorm(32, 256, eps=1e-05, affine=True)\n",
       "          (dropout): Dropout(p=0.0, inplace=False)\n",
       "          (conv2): Conv2d(256, 256, kernel_size=(3, 3), stride=(1, 1), padding=(1, 1))\n",
       "          (nonlinearity): SiLU()\n",
       "          (conv_shortcut): Conv2d(384, 256, kernel_size=(1, 1), stride=(1, 1))\n",
       "        )\n",
       "      )\n",
       "      (upsamplers): ModuleList(\n",
       "        (0): Upsample2D(\n",
       "          (conv): Conv2d(256, 256, kernel_size=(3, 3), stride=(1, 1), padding=(1, 1))\n",
       "        )\n",
       "      )\n",
       "    )\n",
       "    (1): AttnUpBlock2D(\n",
       "      (attentions): ModuleList(\n",
       "        (0-2): 3 x Attention(\n",
       "          (group_norm): GroupNorm(32, 128, eps=1e-05, affine=True)\n",
       "          (to_q): Linear(in_features=128, out_features=128, bias=True)\n",
       "          (to_k): Linear(in_features=128, out_features=128, bias=True)\n",
       "          (to_v): Linear(in_features=128, out_features=128, bias=True)\n",
       "          (to_out): ModuleList(\n",
       "            (0): Linear(in_features=128, out_features=128, bias=True)\n",
       "            (1): Dropout(p=0.0, inplace=False)\n",
       "          )\n",
       "        )\n",
       "      )\n",
       "      (resnets): ModuleList(\n",
       "        (0): ResnetBlock2D(\n",
       "          (norm1): GroupNorm(32, 384, eps=1e-05, affine=True)\n",
       "          (conv1): Conv2d(384, 128, kernel_size=(3, 3), stride=(1, 1), padding=(1, 1))\n",
       "          (time_emb_proj): Linear(in_features=128, out_features=128, bias=True)\n",
       "          (norm2): GroupNorm(32, 128, eps=1e-05, affine=True)\n",
       "          (dropout): Dropout(p=0.0, inplace=False)\n",
       "          (conv2): Conv2d(128, 128, kernel_size=(3, 3), stride=(1, 1), padding=(1, 1))\n",
       "          (nonlinearity): SiLU()\n",
       "          (conv_shortcut): Conv2d(384, 128, kernel_size=(1, 1), stride=(1, 1))\n",
       "        )\n",
       "        (1): ResnetBlock2D(\n",
       "          (norm1): GroupNorm(32, 256, eps=1e-05, affine=True)\n",
       "          (conv1): Conv2d(256, 128, kernel_size=(3, 3), stride=(1, 1), padding=(1, 1))\n",
       "          (time_emb_proj): Linear(in_features=128, out_features=128, bias=True)\n",
       "          (norm2): GroupNorm(32, 128, eps=1e-05, affine=True)\n",
       "          (dropout): Dropout(p=0.0, inplace=False)\n",
       "          (conv2): Conv2d(128, 128, kernel_size=(3, 3), stride=(1, 1), padding=(1, 1))\n",
       "          (nonlinearity): SiLU()\n",
       "          (conv_shortcut): Conv2d(256, 128, kernel_size=(1, 1), stride=(1, 1))\n",
       "        )\n",
       "        (2): ResnetBlock2D(\n",
       "          (norm1): GroupNorm(32, 192, eps=1e-05, affine=True)\n",
       "          (conv1): Conv2d(192, 128, kernel_size=(3, 3), stride=(1, 1), padding=(1, 1))\n",
       "          (time_emb_proj): Linear(in_features=128, out_features=128, bias=True)\n",
       "          (norm2): GroupNorm(32, 128, eps=1e-05, affine=True)\n",
       "          (dropout): Dropout(p=0.0, inplace=False)\n",
       "          (conv2): Conv2d(128, 128, kernel_size=(3, 3), stride=(1, 1), padding=(1, 1))\n",
       "          (nonlinearity): SiLU()\n",
       "          (conv_shortcut): Conv2d(192, 128, kernel_size=(1, 1), stride=(1, 1))\n",
       "        )\n",
       "      )\n",
       "      (upsamplers): ModuleList(\n",
       "        (0): Upsample2D(\n",
       "          (conv): Conv2d(128, 128, kernel_size=(3, 3), stride=(1, 1), padding=(1, 1))\n",
       "        )\n",
       "      )\n",
       "    )\n",
       "    (2): UpBlock2D(\n",
       "      (resnets): ModuleList(\n",
       "        (0): ResnetBlock2D(\n",
       "          (norm1): GroupNorm(32, 192, eps=1e-05, affine=True)\n",
       "          (conv1): Conv2d(192, 64, kernel_size=(3, 3), stride=(1, 1), padding=(1, 1))\n",
       "          (time_emb_proj): Linear(in_features=128, out_features=64, bias=True)\n",
       "          (norm2): GroupNorm(32, 64, eps=1e-05, affine=True)\n",
       "          (dropout): Dropout(p=0.0, inplace=False)\n",
       "          (conv2): Conv2d(64, 64, kernel_size=(3, 3), stride=(1, 1), padding=(1, 1))\n",
       "          (nonlinearity): SiLU()\n",
       "          (conv_shortcut): Conv2d(192, 64, kernel_size=(1, 1), stride=(1, 1))\n",
       "        )\n",
       "        (1): ResnetBlock2D(\n",
       "          (norm1): GroupNorm(32, 128, eps=1e-05, affine=True)\n",
       "          (conv1): Conv2d(128, 64, kernel_size=(3, 3), stride=(1, 1), padding=(1, 1))\n",
       "          (time_emb_proj): Linear(in_features=128, out_features=64, bias=True)\n",
       "          (norm2): GroupNorm(32, 64, eps=1e-05, affine=True)\n",
       "          (dropout): Dropout(p=0.0, inplace=False)\n",
       "          (conv2): Conv2d(64, 64, kernel_size=(3, 3), stride=(1, 1), padding=(1, 1))\n",
       "          (nonlinearity): SiLU()\n",
       "          (conv_shortcut): Conv2d(128, 64, kernel_size=(1, 1), stride=(1, 1))\n",
       "        )\n",
       "        (2): ResnetBlock2D(\n",
       "          (norm1): GroupNorm(32, 96, eps=1e-05, affine=True)\n",
       "          (conv1): Conv2d(96, 64, kernel_size=(3, 3), stride=(1, 1), padding=(1, 1))\n",
       "          (time_emb_proj): Linear(in_features=128, out_features=64, bias=True)\n",
       "          (norm2): GroupNorm(32, 64, eps=1e-05, affine=True)\n",
       "          (dropout): Dropout(p=0.0, inplace=False)\n",
       "          (conv2): Conv2d(64, 64, kernel_size=(3, 3), stride=(1, 1), padding=(1, 1))\n",
       "          (nonlinearity): SiLU()\n",
       "          (conv_shortcut): Conv2d(96, 64, kernel_size=(1, 1), stride=(1, 1))\n",
       "        )\n",
       "      )\n",
       "      (upsamplers): ModuleList(\n",
       "        (0): Upsample2D(\n",
       "          (conv): Conv2d(64, 64, kernel_size=(3, 3), stride=(1, 1), padding=(1, 1))\n",
       "        )\n",
       "      )\n",
       "    )\n",
       "    (3): UpBlock2D(\n",
       "      (resnets): ModuleList(\n",
       "        (0): ResnetBlock2D(\n",
       "          (norm1): GroupNorm(32, 96, eps=1e-05, affine=True)\n",
       "          (conv1): Conv2d(96, 32, kernel_size=(3, 3), stride=(1, 1), padding=(1, 1))\n",
       "          (time_emb_proj): Linear(in_features=128, out_features=32, bias=True)\n",
       "          (norm2): GroupNorm(32, 32, eps=1e-05, affine=True)\n",
       "          (dropout): Dropout(p=0.0, inplace=False)\n",
       "          (conv2): Conv2d(32, 32, kernel_size=(3, 3), stride=(1, 1), padding=(1, 1))\n",
       "          (nonlinearity): SiLU()\n",
       "          (conv_shortcut): Conv2d(96, 32, kernel_size=(1, 1), stride=(1, 1))\n",
       "        )\n",
       "        (1-2): 2 x ResnetBlock2D(\n",
       "          (norm1): GroupNorm(32, 64, eps=1e-05, affine=True)\n",
       "          (conv1): Conv2d(64, 32, kernel_size=(3, 3), stride=(1, 1), padding=(1, 1))\n",
       "          (time_emb_proj): Linear(in_features=128, out_features=32, bias=True)\n",
       "          (norm2): GroupNorm(32, 32, eps=1e-05, affine=True)\n",
       "          (dropout): Dropout(p=0.0, inplace=False)\n",
       "          (conv2): Conv2d(32, 32, kernel_size=(3, 3), stride=(1, 1), padding=(1, 1))\n",
       "          (nonlinearity): SiLU()\n",
       "          (conv_shortcut): Conv2d(64, 32, kernel_size=(1, 1), stride=(1, 1))\n",
       "        )\n",
       "      )\n",
       "    )\n",
       "  )\n",
       "  (mid_block): UNetMidBlock2D(\n",
       "    (attentions): ModuleList(\n",
       "      (0): Attention(\n",
       "        (group_norm): GroupNorm(32, 256, eps=1e-05, affine=True)\n",
       "        (to_q): Linear(in_features=256, out_features=256, bias=True)\n",
       "        (to_k): Linear(in_features=256, out_features=256, bias=True)\n",
       "        (to_v): Linear(in_features=256, out_features=256, bias=True)\n",
       "        (to_out): ModuleList(\n",
       "          (0): Linear(in_features=256, out_features=256, bias=True)\n",
       "          (1): Dropout(p=0.0, inplace=False)\n",
       "        )\n",
       "      )\n",
       "    )\n",
       "    (resnets): ModuleList(\n",
       "      (0-1): 2 x ResnetBlock2D(\n",
       "        (norm1): GroupNorm(32, 256, eps=1e-05, affine=True)\n",
       "        (conv1): Conv2d(256, 256, kernel_size=(3, 3), stride=(1, 1), padding=(1, 1))\n",
       "        (time_emb_proj): Linear(in_features=128, out_features=256, bias=True)\n",
       "        (norm2): GroupNorm(32, 256, eps=1e-05, affine=True)\n",
       "        (dropout): Dropout(p=0.0, inplace=False)\n",
       "        (conv2): Conv2d(256, 256, kernel_size=(3, 3), stride=(1, 1), padding=(1, 1))\n",
       "        (nonlinearity): SiLU()\n",
       "      )\n",
       "    )\n",
       "  )\n",
       "  (conv_norm_out): GroupNorm(32, 32, eps=1e-05, affine=True)\n",
       "  (conv_act): SiLU()\n",
       "  (conv_out): Conv2d(32, 1, kernel_size=(3, 3), stride=(1, 1), padding=(1, 1))\n",
       ")"
      ]
     },
     "execution_count": 11,
     "metadata": {},
     "output_type": "execute_result"
    }
   ],
   "source": [
    "base_model = UNet2DModel(\n",
    "    in_channels=1,  # 1 channels for grey scale\n",
    "    out_channels=1,\n",
    "    sample_size=32,  # Specify our input size\n",
    "    # The number of channels per block affects the model size\n",
    "    block_out_channels=(32, 64, 128, 256),\n",
    "    down_block_types=(\n",
    "        \"DownBlock2D\",\n",
    "        \"DownBlock2D\",\n",
    "        \"AttnDownBlock2D\",\n",
    "        \"AttnDownBlock2D\",\n",
    "    ),\n",
    "    up_block_types=(\n",
    "        \"AttnUpBlock2D\",\n",
    "        \"AttnUpBlock2D\",\n",
    "        \"UpBlock2D\",\n",
    "        \"UpBlock2D\"\n",
    "        ),\n",
    "\n",
    ").cuda()\n",
    "\n",
    "base_model.load_state_dict(torch.load(\"Base_model_OOD_detection.pth\",weights_only=True))\n",
    "base_model.eval()"
   ]
  },
  {
   "cell_type": "code",
   "execution_count": 12,
   "id": "3b10c55c",
   "metadata": {},
   "outputs": [],
   "source": [
    "scheduler = PNDMScheduler(\n",
    "    num_train_timesteps=1000, beta_start=0.0015, beta_end=0.0195\n",
    ")\n",
    "scheduler.set_timesteps(50)    # Especificamos el nº de pasos de inferencia que usaremos"
   ]
  },
  {
   "cell_type": "markdown",
   "id": "f4146dcf",
   "metadata": {},
   "source": [
    "# Generación de imágenes"
   ]
  },
  {
   "cell_type": "code",
   "execution_count": 13,
   "id": "cc4b9a38",
   "metadata": {},
   "outputs": [],
   "source": [
    "def PNDM_generation_loop(input_img:torch.Tensor, input_timestep : int, model: UNet2DModel, scheduler : PNDMScheduler):\n",
    "\n",
    "    if input_img.dim() != 4:     # Control de Errores\n",
    "        raise SyntaxError(\"Error de Dimensiones. El Tensor de entrada dbe tener 4 dimensions, siendo la primera la dimensión de lote\")\n",
    "    \n",
    "    noisy_x = input_img\n",
    "\n",
    "    if input_timestep < 0 or input_timestep > 1000: # Control de Errores\n",
    "        raise SyntaxError(\"El timestep debe estar entre 0 y 1000\")\n",
    "    \n",
    "    if input_timestep == 1000:  # Si el Timestep es de 1000, se genera una imagen desde cero\n",
    "        idx = 0\n",
    "    else:                       # Si no es de 1000, se comienza desde el punto correspondiente, con los datos de la imagen deseada\n",
    "        idx = torch.where(scheduler.timesteps == input_timestep)[0][0]  # Buscamos el indice del timestep en la lista del scheduler\n",
    "\n",
    "    for t in scheduler.timesteps[idx:]:     # Iteramos sobre la lista del scheduler. Cada elemento es uno de los timesteps de la cadena\n",
    "\n",
    "        with torch.inference_mode():        # Realizamos un paso de la iteración\n",
    "            noise_pred = model(noisy_x, t,return_dict=False)[0]\n",
    "\n",
    "        scheduler_output = scheduler.step(noise_pred, t, noisy_x)   # Paso del scheduler\n",
    "\n",
    "        noisy_x = scheduler_output.prev_sample                      # Realimentamos el bucle\n",
    "    \n",
    "    return(scheduler_output.prev_sample)  # Devolvemos el resultado."
   ]
  },
  {
   "cell_type": "markdown",
   "id": "36e43d8c",
   "metadata": {},
   "source": [
    "# Métricas"
   ]
  },
  {
   "cell_type": "code",
   "execution_count": 14,
   "id": "c23bb646",
   "metadata": {},
   "outputs": [],
   "source": [
    "from torchmetrics.functional import mean_squared_error as MSE\n",
    "from torchmetrics.functional.image.lpips import learned_perceptual_image_patch_similarity as LPIPS"
   ]
  },
  {
   "cell_type": "code",
   "execution_count": 121,
   "id": "67deb7e5",
   "metadata": {},
   "outputs": [],
   "source": [
    "def prepare_to_lpips(img:torch.tensor): # Prepara una imagen para poder realizar una metrica de LPIPS: size(N, 3, H, W) y valores entre -1 y 1\n",
    "\n",
    "    max,min = img.max(),img.min()\n",
    "    normalized =  2* ( ((img-min) / (max-min)) - 0.5)\n",
    "\n",
    "    output = normalized.repeat(1,3,1,1)\n",
    "\n",
    "    return output"
   ]
  },
  {
   "cell_type": "markdown",
   "id": "dfff3191",
   "metadata": {},
   "source": [
    "# Detección de OODs\n",
    "1. Obtenemos una imagen de cada dataset, OOD e IOD (FashionMNIST volteado verticalmente y FashionMNIST)\n",
    "2. Realizamos las N restauraciones de la imagen.\n",
    "    * Generamos ruido gaussiano\n",
    "    * Añadimos el ruido según los timesteps dados\n",
    "    * Realizamos la restauración con nuestra red\n",
    "    * Calculamos las métricas\n",
    "3. Calculamos el z-score con los datos recopilados anteriormente\n",
    "4. Promediamos los z-scores\n",
    "\n",
    "5. Comparamos los z-scores para averiguar si la imagen pertenece o no al dataset"
   ]
  },
  {
   "cell_type": "code",
   "execution_count": 174,
   "id": "769adeba",
   "metadata": {},
   "outputs": [
    {
     "data": {
      "image/png": "[encoded data removed]",
      "text/plain": [
       "<Figure size 640x480 with 1 Axes>"
      ]
     },
     "metadata": {},
     "output_type": "display_data"
    }
   ],
   "source": [
    "OOD_img = next(iter(OOD_dataloader))[\"images\"][0].cuda()\n",
    "IOD_img = next(iter(IOD_dataloder))[\"images\"][0].cuda()\n",
    "show_images_list([OOD_img.cpu(), IOD_img.cpu()])"
   ]
  },
  {
   "cell_type": "code",
   "execution_count": 161,
   "id": "f459275f",
   "metadata": {},
   "outputs": [],
   "source": [
    "N = 50      # Número de restauraciones que se realizarán\n",
    "\n",
    "noise_a = torch.randn_like(OOD_img)\n",
    "# noise_b = torch.randn_like(IOD_img)\n",
    "\n",
    "timesetps = torch.arange(1000,0,(0-1000)/N,dtype=torch.int)"
   ]
  },
  {
   "cell_type": "code",
   "execution_count": 162,
   "id": "7d8d1029",
   "metadata": {},
   "outputs": [],
   "source": [
    "def OOD_detection_regenerations(img = torch.tensor):\n",
    "    noise = torch.randn_like(img)   # Create some random noise\n",
    "\n",
    "    noisy_img_half = scheduler.add_noise(img,noise,timesetps[1:]) # Add noise to the image\n",
    "\n",
    "    noise = torch.randn_like(img)   # Create new noise\n",
    "\n",
    "    noisy_imgs = torch.concat((noise,noisy_img_half)).unsqueeze(1)   # Concatenate the new noise (step 1000 with)\n",
    "\n",
    "\n",
    "    restored_images = []\n",
    "    MSE_base_list = []\n",
    "    LPIPS_base_list = []\n",
    "\n",
    "    for idx,img in enumerate(noisy_imgs):\n",
    "        restoration = PNDM_generation_loop(img.unsqueeze(0),timesetps[idx],base_model,scheduler)\n",
    "        restored_images.append(restoration.cpu().squeeze(0))\n",
    "\n",
    "        MSE_base_list.append(MSE(restoration.squeeze(0),img))\n",
    "\n",
    "        lpips_restoration = prepare_to_lpips(restoration)\n",
    "        lpips_img = prepare_to_lpips(img)\n",
    "        LPIPS_base_list.append(LPIPS(lpips_restoration,lpips_img))\n",
    "\n",
    "    return (restored_images, MSE_base_list, LPIPS_base_list)"
   ]
  },
  {
   "cell_type": "code",
   "execution_count": 175,
   "id": "36410cea",
   "metadata": {},
   "outputs": [],
   "source": [
    "OOD_restored_images, OOD_MSE_base_list, OOD_LPIPS_base_list = OOD_detection_regenerations(OOD_img)\n",
    "\n",
    "IOD_restored_images, IOD_MSE_base_list, IOD_LPIPS_base_list = OOD_detection_regenerations(IOD_img)"
   ]
  },
  {
   "cell_type": "code",
   "execution_count": 156,
   "id": "faa89112",
   "metadata": {},
   "outputs": [],
   "source": [
    "def OOD_detection_zscore(MSE_base_list:list, LPIPS_base_list:list):\n",
    "\n",
    "    # Calculemos ahora el z-score de cada medida\n",
    "    MSE_zscore = torch.empty((N))\n",
    "    LPIPS_zscore = torch.empty((N))\n",
    "\n",
    "    for idx,data in enumerate(MSE_base_list):\n",
    "        mean,std = MSE_distribution_list[idx]\n",
    "        zscore = (abs(data-mean))/std\n",
    "        \n",
    "        MSE_zscore[idx] = zscore\n",
    "\n",
    "    for idx,data in enumerate(LPIPS_base_list):\n",
    "        mean,std = LPIPS_distribution_list[idx]\n",
    "        zscore = (abs(data-mean))/std\n",
    "        \n",
    "        LPIPS_zscore[idx] = zscore\n",
    "\n",
    "    OOD_score = torch.concat((MSE_zscore,LPIPS_zscore))\n",
    "\n",
    "    return (MSE_zscore,LPIPS_zscore, OOD_score.mean())"
   ]
  },
  {
   "cell_type": "code",
   "execution_count": 176,
   "id": "468fddf5",
   "metadata": {},
   "outputs": [],
   "source": [
    "OOD_MSE_zscore,OOD_LPIPS_zscore,OOD_general_zscore = OOD_detection_zscore(OOD_MSE_base_list,OOD_LPIPS_base_list)\n",
    "IOD_MSE_zscore,IOD_LPIPS_zscore,IOD_general_zscore = OOD_detection_zscore(IOD_MSE_base_list,IOD_LPIPS_base_list)"
   ]
  },
  {
   "cell_type": "code",
   "execution_count": 177,
   "id": "35417209",
   "metadata": {},
   "outputs": [
    {
     "data": {
      "text/plain": [
       "tensor(69.3658)"
      ]
     },
     "execution_count": 177,
     "metadata": {},
     "output_type": "execute_result"
    }
   ],
   "source": [
    "OOD_general_zscore"
   ]
  },
  {
   "cell_type": "code",
   "execution_count": 178,
   "id": "7b610266",
   "metadata": {},
   "outputs": [
    {
     "data": {
      "text/plain": [
       "tensor(72.2459)"
      ]
     },
     "execution_count": 178,
     "metadata": {},
     "output_type": "execute_result"
    }
   ],
   "source": [
    "IOD_general_zscore"
   ]
  },
  {
   "cell_type": "code",
   "execution_count": 181,
   "id": "8f456355",
   "metadata": {},
   "outputs": [
    {
     "data": {
      "image/png": "[encoded data removed]",
      "text/plain": [
       "<Figure size 640x480 with 1 Axes>"
      ]
     },
     "metadata": {},
     "output_type": "display_data"
    }
   ],
   "source": [
    "show_images_list(OOD_restored_images[40:42])\n",
    "# restored_images[0].shape"
   ]
  },
  {
   "cell_type": "code",
   "execution_count": 182,
   "id": "4260b629",
   "metadata": {},
   "outputs": [
    {
     "data": {
      "image/png": "[encoded data removed]",
      "text/plain": [
       "<Figure size 640x480 with 1 Axes>"
      ]
     },
     "metadata": {},
     "output_type": "display_data"
    }
   ],
   "source": [
    "show_images_list(IOD_restored_images[40:42])"
   ]
  },
  {
   "cell_type": "code",
   "execution_count": null,
   "id": "3a442e40",
   "metadata": {},
   "outputs": [
    {
     "data": {
      "text/plain": [
       "tensor([  0.7781,   0.8557,   1.6340,   7.6709,  16.8976,  18.9924,  22.3921,\n",
       "         22.4038,  23.7154,  24.0998,  26.7559,  25.1659,  26.3368,  27.9851,\n",
       "         30.9098,  29.5662,  34.6491,  37.5885,  36.4888,  36.5309,  44.2100,\n",
       "         48.8932,  51.6261,  55.6506,  66.5543,  70.6337,  81.4523,  86.1977,\n",
       "        101.3088, 109.0455, 112.7507, 130.0541, 133.5587, 147.0080, 156.2644,\n",
       "        147.4879, 161.5470, 152.8015, 156.6966, 165.2581, 151.0251, 150.5148,\n",
       "        147.6123, 137.1277, 120.7426,  79.3032,  14.2224,   3.9015,  34.5098,\n",
       "         35.0369])"
      ]
     },
     "execution_count": 183,
     "metadata": {},
     "output_type": "execute_result"
    }
   ],
   "source": [
    "IOD_MSE_zscore"
   ]
  },
  {
   "cell_type": "code",
   "execution_count": 185,
   "id": "99781ca4",
   "metadata": {},
   "outputs": [
    {
     "data": {
      "text/plain": [
       "tensor([  0.8722,   7.2252,   8.9765,  20.7387,  35.4772,  36.9729,  52.8990,\n",
       "         53.1160,  55.1942,  48.2666,  53.2776,  54.9382,  58.0462,  57.3093,\n",
       "         59.2665,  64.3431,  60.8897,  65.7651,  65.7567,  64.7702,  66.6334,\n",
       "         65.3474,  71.1401,  72.8508,  75.1434,  78.0577,  84.2555,  87.5143,\n",
       "         95.3685,  99.0886,  94.4886,  97.9882, 106.0912, 108.0028, 113.3199,\n",
       "        111.6120, 119.5524, 116.3951, 124.5558, 130.4850, 125.7922, 127.9696,\n",
       "        134.6055,  98.9194,  31.9146,   7.2142,  15.4471,  17.2928,  15.7894,\n",
       "         13.4372])"
      ]
     },
     "execution_count": 185,
     "metadata": {},
     "output_type": "execute_result"
    }
   ],
   "source": [
    "IOD_LPIPS_zscore"
   ]
  }
 ],
 "metadata": {
  "kernelspec": {
   "display_name": ".venv",
   "language": "python",
   "name": "python3"
  },
  "language_info": {
   "codemirror_mode": {
    "name": "ipython",
    "version": 3
   },
   "file_extension": ".py",
   "mimetype": "text/x-python",
   "name": "python",
   "nbconvert_exporter": "python",
   "pygments_lexer": "ipython3",
   "version": "3.11.11"
  }
 },
 "nbformat": 4,
 "nbformat_minor": 5
}
