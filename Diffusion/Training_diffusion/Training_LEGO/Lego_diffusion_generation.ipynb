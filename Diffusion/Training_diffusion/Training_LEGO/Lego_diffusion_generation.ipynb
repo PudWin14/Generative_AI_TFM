{
 "cells": [
  {
   "cell_type": "markdown",
   "id": "fbcda4b8",
   "metadata": {},
   "source": [
    "# Generating Lego Bricks with Diffusion\n",
    "Dataset used: lego-brick-images from joosthazelzet on Kaggle"
   ]
  },
  {
   "cell_type": "code",
   "execution_count": null,
   "id": "d4df97eb",
   "metadata": {},
   "outputs": [],
   "source": [
    "# import torch\n",
    "from torch import Tensor\n",
    "from torch.utils.data import Dataset, random_split\n",
    "import torchvision.transforms as transforms\n",
    "\n",
    "from matplotlib import pyplot as plt\n",
    "\n",
    "import numpy as np\n",
    "import os\n",
    "import kagglehub"
   ]
  },
  {
   "cell_type": "markdown",
   "id": "0d514718",
   "metadata": {},
   "source": [
    "## Data\n",
    "Download and create the Dataset"
   ]
  },
  {
   "cell_type": "code",
   "execution_count": 2,
   "id": "7a9732fd",
   "metadata": {},
   "outputs": [
    {
     "name": "stdout",
     "output_type": "stream",
     "text": [
      "Warning: Looks like you're using an outdated `kagglehub` version (installed: 0.3.8), please consider upgrading to the latest version (0.3.12).\n",
      "Downloading from https://www.kaggle.com/api/v1/datasets/download/joosthazelzet/lego-brick-images?dataset_version_number=4...\n"
     ]
    },
    {
     "name": "stderr",
     "output_type": "stream",
     "text": [
      "100%|██████████| 1.00G/1.00G [00:24<00:00, 43.1MB/s]"
     ]
    },
    {
     "name": "stdout",
     "output_type": "stream",
     "text": [
      "Extracting files...\n"
     ]
    },
    {
     "name": "stderr",
     "output_type": "stream",
     "text": [
      "\n"
     ]
    },
    {
     "name": "stdout",
     "output_type": "stream",
     "text": [
      "Path to dataset files: /home/pedro/.cache/kagglehub/datasets/joosthazelzet/lego-brick-images/versions/4\n"
     ]
    }
   ],
   "source": [
    "path = kagglehub.dataset_download(\"joosthazelzet/lego-brick-images\")\n",
    "\n",
    "print(\"Path to dataset files:\", path)"
   ]
  },
  {
   "cell_type": "code",
   "execution_count": 15,
   "id": "25133266",
   "metadata": {},
   "outputs": [],
   "source": [
    "\n",
    "class lego(Dataset):\n",
    "    \n",
    "    def __init__(self, images:list[str], source_dir:str, transforms:transforms =None, classes: dict=None):\n",
    "        np.random.shuffle(images)\n",
    "        self.classes = classes if classes is not None else {}\n",
    "        self.num_classes = 0 if self.classes is None else len(self.classes)\n",
    "        self.dataset_x = []\n",
    "        self.dataset_y = []\n",
    "        self.transforms = transforms\n",
    "        \n",
    "        for name in images:\n",
    "            temp = name.split()\n",
    "            self.dataset_x.append(f\"{source_dir}{name}\")\n",
    "            image_class = \"_\".join(temp[1:-1])\n",
    "                        \n",
    "            if (image_class not in self.classes):\n",
    "                self.classes[image_class] = self.num_classes\n",
    "                self.num_classes += 1\n",
    "            self.dataset_y.append(self.classes[image_class])\n",
    "        \n",
    "    def __getitem__(self, idx):\n",
    "        image = plt.imread(self.dataset_x[idx])\n",
    "        if self.transforms is not None:\n",
    "            image = self.transforms(image)\n",
    "        return image, self.dataset_y[idx]\n",
    "\n",
    "    def __len__(self):\n",
    "        return len(self.dataset_x)"
   ]
  },
  {
   "cell_type": "code",
   "execution_count": 43,
   "id": "8704945c",
   "metadata": {},
   "outputs": [],
   "source": [
    "trans = transforms.Compose([\n",
    "    transforms.ToTensor(),\n",
    "    transforms.Grayscale(),\n",
    "    transforms.Resize([128,128])\n",
    "\n",
    "])"
   ]
  },
  {
   "cell_type": "code",
   "execution_count": null,
   "id": "91dfd2ca",
   "metadata": {},
   "outputs": [],
   "source": [
    "source_dir=path + \"/dataset/\"\n",
    "images = os.listdir(source_dir)\n",
    "\n",
    "Lego_dataset = lego(images, source_dir, trans)"
   ]
  },
  {
   "cell_type": "code",
   "execution_count": 74,
   "id": "7235a97a",
   "metadata": {},
   "outputs": [
    {
     "data": {
      "text/plain": [
       "32000"
      ]
     },
     "execution_count": 74,
     "metadata": {},
     "output_type": "execute_result"
    }
   ],
   "source": [
    "train, val = random_split(Lego_dataset, [0.8,0.2])\n",
    "len(train)"
   ]
  },
  {
   "cell_type": "markdown",
   "id": "2731cf03",
   "metadata": {},
   "source": [
    "### A little fnct to show easily images"
   ]
  },
  {
   "cell_type": "code",
   "execution_count": 68,
   "id": "d3dc1045",
   "metadata": {},
   "outputs": [],
   "source": [
    "from torch import cat\n",
    "def show_images(images_tensor: Tensor):\n",
    "    n_dims = images_tensor.dim()\n",
    "    \n",
    "    if n_dims in (2,3):\n",
    "        x_cat = images_tensor\n",
    "\n",
    "    elif n_dims == 4:\n",
    "        x_list = [img for img in images_tensor]\n",
    "        x_cat = cat(x_list,dim=2)\n",
    "    \n",
    "    else:\n",
    "        raise SyntaxError(\"The dimensions of images_tensor must be between 2 and 4\")\n",
    "\n",
    "    if n_dims != 2:\n",
    "        if x_cat.shape[0] == 1:\n",
    "            plt.imshow(x_cat.movedim(0,-1),cmap=\"gray\");\n",
    "        else:\n",
    "            plt.imshow(x_cat.movedim(0,-1));\n",
    "    else:\n",
    "        plt.imshow(x_cat,cmap=\"gray\");"
   ]
  },
  {
   "cell_type": "code",
   "execution_count": 70,
   "id": "37c27126",
   "metadata": {},
   "outputs": [],
   "source": [
    "from torch import concat\n",
    "def show_images_list(images_list:list[Tensor]) -> None:\n",
    "\n",
    "    images_tensor = concat(images_list,dim=0)\n",
    "\n",
    "    # return images_tensor\n",
    "    show_images(images_tensor.unsqueeze(1))"
   ]
  },
  {
   "cell_type": "code",
   "execution_count": 72,
   "id": "969a71b3",
   "metadata": {},
   "outputs": [
    {
     "data": {
      "image/png": "[encoded data removed]",
      "text/plain": [
       "<Figure size 640x480 with 1 Axes>"
      ]
     },
     "metadata": {},
     "output_type": "display_data"
    }
   ],
   "source": [
    "show_images(train[23650][0])"
   ]
  },
  {
   "cell_type": "markdown",
   "id": "7dd04dce",
   "metadata": {},
   "source": [
    "## Preparing images to the net"
   ]
  },
  {
   "cell_type": "code",
   "execution_count": 75,
   "id": "33153bb9",
   "metadata": {},
   "outputs": [],
   "source": [
    "#   Create the Dataloader\n",
    "from torch.utils.data import DataLoader\n",
    "batch_size = 256\n",
    "\n",
    "train_dataloader = DataLoader(\n",
    "    train,\n",
    "    batch_size=batch_size,\n",
    "    shuffle=True\n",
    ")\n",
    "\n",
    "val_dataloader = DataLoader(\n",
    "    val,\n",
    "    batch_size=batch_size,\n",
    "    shuffle=True\n",
    ")\n"
   ]
  },
  {
   "cell_type": "code",
   "execution_count": 77,
   "id": "c80c34fc",
   "metadata": {},
   "outputs": [
    {
     "data": {
      "image/png": "[encoded data removed]",
      "text/plain": [
       "<Figure size 640x480 with 1 Axes>"
      ]
     },
     "metadata": {},
     "output_type": "display_data"
    }
   ],
   "source": [
    "show_images(next(iter(train_dataloader))[0][:8])"
   ]
  }
 ],
 "metadata": {
  "kernelspec": {
   "display_name": ".venv",
   "language": "python",
   "name": "python3"
  },
  "language_info": {
   "codemirror_mode": {
    "name": "ipython",
    "version": 3
   },
   "file_extension": ".py",
   "mimetype": "text/x-python",
   "name": "python",
   "nbconvert_exporter": "python",
   "pygments_lexer": "ipython3",
   "version": "3.11.11"
  }
 },
 "nbformat": 4,
 "nbformat_minor": 5
}
