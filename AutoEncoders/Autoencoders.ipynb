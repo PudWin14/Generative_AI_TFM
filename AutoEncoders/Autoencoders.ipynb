{
 "cells": [
  {
   "cell_type": "code",
   "execution_count": 1,
   "metadata": {},
   "outputs": [],
   "source": [
    "import torch\n",
    "import torchvision.datasets\n",
    "from torchvision.transforms import ToTensor\n",
    "from torch.utils.data import DataLoader\n",
    "from torch import nn\n",
    "\n",
    "from torchsummary import summary\n",
    "\n",
    "import matplotlib.pyplot as plt"
   ]
  },
  {
   "cell_type": "markdown",
   "metadata": {},
   "source": [
    "## Datasets"
   ]
  },
  {
   "cell_type": "code",
   "execution_count": 2,
   "metadata": {},
   "outputs": [],
   "source": [
    "mnist_dataset = torchvision.datasets.MNIST(\n",
    "    root=\"Mnist_dataset\",\n",
    "    download=True,\n",
    "    train=True,\n",
    "    transform=ToTensor()\n",
    ")"
   ]
  },
  {
   "cell_type": "code",
   "execution_count": 3,
   "metadata": {},
   "outputs": [],
   "source": [
    "train,val,test = torch.utils.data.random_split(mnist_dataset,(0.8,0.1,0.1))"
   ]
  },
  {
   "cell_type": "code",
   "execution_count": 5,
   "metadata": {},
   "outputs": [],
   "source": [
    "batch_size = 500\n",
    "train_loader = DataLoader(\n",
    "    dataset=train,\n",
    "    shuffle=True,\n",
    "    batch_size=batch_size\n",
    ")"
   ]
  },
  {
   "cell_type": "code",
   "execution_count": 6,
   "metadata": {},
   "outputs": [],
   "source": [
    "val_loader = DataLoader(\n",
    "    dataset=val,\n",
    "    shuffle=True,\n",
    "    batch_size=batch_size\n",
    ")"
   ]
  },
  {
   "cell_type": "markdown",
   "metadata": {},
   "source": [
    "## Encoder"
   ]
  },
  {
   "cell_type": "code",
   "execution_count": 7,
   "metadata": {},
   "outputs": [],
   "source": [
    "def Conv_block(in_channels,out_channels, kernel_size = 4, stride = 2, padding = 1):\n",
    "    return nn.Sequential(\n",
    "        nn.Conv2d(\n",
    "            in_channels=in_channels,\n",
    "            out_channels=out_channels,\n",
    "            kernel_size=kernel_size,\n",
    "            stride=stride,\n",
    "            padding=padding,\n",
    "        ),\n",
    "        nn.BatchNorm2d(out_channels),\n",
    "        nn.ReLU()\n",
    "    )\n",
    "\n",
    "class Encoder(nn.Module):\n",
    "    def __init__(self, in_channels:int , latent_dims:int):\n",
    "        super().__init__()\n",
    "        self.convolutions = nn.Sequential(\n",
    "            Conv_block(in_channels,128),\n",
    "            Conv_block(128,256),\n",
    "            Conv_block(256,512),\n",
    "            Conv_block(512,1024)\n",
    "        )\n",
    "\n",
    "        self.Lineal = nn.Linear(1024,latent_dims)\n",
    "\n",
    "    def forward(self,x):\n",
    "        x = self.convolutions(x)\n",
    "        x = self.Lineal(x.flatten(start_dim=1))\n",
    "        return x"
   ]
  },
  {
   "cell_type": "code",
   "execution_count": 8,
   "metadata": {},
   "outputs": [],
   "source": [
    "# from torchsummary import summary\n",
    "# Encoder_prueba = Encoder(in_channels=1).cuda().eval()\n",
    "\n",
    "# summary(Encoder_prueba,(1,28,28))"
   ]
  },
  {
   "cell_type": "code",
   "execution_count": null,
   "metadata": {},
   "outputs": [],
   "source": [
    "# batch_img,_ = next(iter(train_loader))\n",
    "# batch_img.shape"
   ]
  },
  {
   "cell_type": "code",
   "execution_count": null,
   "metadata": {},
   "outputs": [],
   "source": [
    "\n",
    "# logits = Encoder_prueba(batch_img.cuda())\n",
    "# logits.shape\n"
   ]
  },
  {
   "cell_type": "markdown",
   "metadata": {},
   "source": [
    "## Decoder"
   ]
  },
  {
   "cell_type": "code",
   "execution_count": 9,
   "metadata": {},
   "outputs": [],
   "source": [
    "def conv_transpose_block(\n",
    "        in_channels,\n",
    "        out_channels,\n",
    "        kernel_size=3,\n",
    "        stride=2,\n",
    "        padding=1,\n",
    "        output_padding=0,\n",
    "        with_act=True\n",
    "):\n",
    "    modules = [\n",
    "        nn.ConvTranspose2d(\n",
    "            in_channels,\n",
    "            out_channels,\n",
    "            kernel_size=kernel_size,\n",
    "            stride=stride,\n",
    "            padding=padding,\n",
    "            output_padding=output_padding\n",
    "            )   \n",
    "    ]\n",
    "\n",
    "    if with_act:\n",
    "        modules.append(nn.BatchNorm2d(out_channels))\n",
    "        modules.append(nn.ReLU())\n",
    "\n",
    "    return nn.Sequential(*modules)\n",
    "\n",
    "\n",
    "class Decoder(nn.Module):\n",
    "    def __init__(self,out_channels:int , latent_dims:int):\n",
    "        super().__init__()\n",
    "\n",
    "        self.lineal = nn.Linear(latent_dims,1024*4*4)\n",
    "        self.t_conv = nn.Sequential(\n",
    "            conv_transpose_block(1024,512),\n",
    "            conv_transpose_block(512,256,output_padding=1),\n",
    "            conv_transpose_block(256,out_channels,output_padding=1,with_act=False)\n",
    "        )\n",
    "\n",
    "    def forward(self, x:torch.Tensor):\n",
    "        bs = x.shape[0]\n",
    "\n",
    "        x = self.lineal(x)\n",
    "        x = x.reshape((bs,1024,4,4))\n",
    "        x = self.t_conv(x)\n",
    "        \n",
    "        return x"
   ]
  },
  {
   "cell_type": "code",
   "execution_count": null,
   "metadata": {},
   "outputs": [],
   "source": [
    "# Decoder_Example = Decoder(out_channels=1).cuda().eval()\n",
    "\n",
    "# decoded = Decoder_Example(logits.cuda())\n",
    "\n",
    "# decoded.shape"
   ]
  },
  {
   "cell_type": "markdown",
   "metadata": {},
   "source": [
    "## Autoencoder"
   ]
  },
  {
   "cell_type": "code",
   "execution_count": 10,
   "metadata": {},
   "outputs": [],
   "source": [
    "class AutoEncoder(nn.Module):\n",
    "    def __init__(self, in_channels, latent_dims:int):\n",
    "        super().__init__()\n",
    "        self.encoder = Encoder(in_channels,latent_dims)\n",
    "        self.decoder = Decoder(in_channels,latent_dims)\n",
    "\n",
    "    def encode(self,x):\n",
    "        return self.encoder(x)\n",
    "\n",
    "    def decode(self,x):\n",
    "        return self.decoder(x)\n",
    "\n",
    "\n",
    "    def forward(self,x):\n",
    "        x = self.encode(x)\n",
    "        x = self.decode(x)\n",
    "\n",
    "        return x\n"
   ]
  },
  {
   "cell_type": "code",
   "execution_count": 11,
   "metadata": {},
   "outputs": [
    {
     "name": "stdout",
     "output_type": "stream",
     "text": [
      "----------------------------------------------------------------\n",
      "        Layer (type)               Output Shape         Param #\n",
      "================================================================\n",
      "            Conv2d-1          [-1, 128, 14, 14]           2,176\n",
      "       BatchNorm2d-2          [-1, 128, 14, 14]             256\n",
      "              ReLU-3          [-1, 128, 14, 14]               0\n",
      "            Conv2d-4            [-1, 256, 7, 7]         524,544\n",
      "       BatchNorm2d-5            [-1, 256, 7, 7]             512\n",
      "              ReLU-6            [-1, 256, 7, 7]               0\n",
      "            Conv2d-7            [-1, 512, 3, 3]       2,097,664\n",
      "       BatchNorm2d-8            [-1, 512, 3, 3]           1,024\n",
      "              ReLU-9            [-1, 512, 3, 3]               0\n",
      "           Conv2d-10           [-1, 1024, 1, 1]       8,389,632\n",
      "      BatchNorm2d-11           [-1, 1024, 1, 1]           2,048\n",
      "             ReLU-12           [-1, 1024, 1, 1]               0\n",
      "           Linear-13                    [-1, 2]           2,050\n",
      "          Encoder-14                    [-1, 2]               0\n",
      "           Linear-15                [-1, 16384]          49,152\n",
      "  ConvTranspose2d-16            [-1, 512, 7, 7]       4,719,104\n",
      "      BatchNorm2d-17            [-1, 512, 7, 7]           1,024\n",
      "             ReLU-18            [-1, 512, 7, 7]               0\n",
      "  ConvTranspose2d-19          [-1, 256, 14, 14]       1,179,904\n",
      "      BatchNorm2d-20          [-1, 256, 14, 14]             512\n",
      "             ReLU-21          [-1, 256, 14, 14]               0\n",
      "  ConvTranspose2d-22            [-1, 1, 28, 28]           2,305\n",
      "          Decoder-23            [-1, 1, 28, 28]               0\n",
      "================================================================\n",
      "Total params: 16,971,907\n",
      "Trainable params: 16,971,907\n",
      "Non-trainable params: 0\n",
      "----------------------------------------------------------------\n",
      "Input size (MB): 0.00\n",
      "Forward/backward pass size (MB): 2.85\n",
      "Params size (MB): 64.74\n",
      "Estimated Total Size (MB): 67.60\n",
      "----------------------------------------------------------------\n"
     ]
    }
   ],
   "source": [
    "model = AutoEncoder(in_channels=1, latent_dims=2).cuda().eval()\n",
    "summary(model,(1,28,28))"
   ]
  },
  {
   "cell_type": "code",
   "execution_count": 12,
   "metadata": {},
   "outputs": [
    {
     "data": {
      "text/plain": [
       "torch.Size([500, 1, 28, 28])"
      ]
     },
     "execution_count": 12,
     "metadata": {},
     "output_type": "execute_result"
    }
   ],
   "source": [
    "batch_img = next(iter(train_loader))[0].cuda()\n",
    "autoencoder_outut = model(batch_img)\n",
    "autoencoder_outut.shape"
   ]
  },
  {
   "cell_type": "code",
   "execution_count": 13,
   "metadata": {},
   "outputs": [
    {
     "data": {
      "image/png": "[encoded data removed]",
      "text/plain": [
       "<Figure size 640x480 with 1 Axes>"
      ]
     },
     "metadata": {},
     "output_type": "display_data"
    }
   ],
   "source": [
    "random_sample = torch.randint(batch_size,size=(1,))\n",
    "\n",
    "plt.imshow(batch_img[random_sample].cpu().detach().squeeze(),cmap=\"grey\");"
   ]
  },
  {
   "cell_type": "code",
   "execution_count": 14,
   "metadata": {},
   "outputs": [
    {
     "data": {
      "image/png": "[encoded data removed]",
      "text/plain": [
       "<Figure size 640x480 with 1 Axes>"
      ]
     },
     "metadata": {},
     "output_type": "display_data"
    }
   ],
   "source": [
    "plt.imshow(autoencoder_outut[random_sample].cpu().detach().squeeze(),cmap=\"grey\");\n"
   ]
  },
  {
   "cell_type": "markdown",
   "metadata": {},
   "source": [
    "## Entrenamiento"
   ]
  },
  {
   "cell_type": "code",
   "execution_count": 15,
   "metadata": {},
   "outputs": [],
   "source": [
    "def train_loop(loader:torch.utils.data.DataLoader, model : nn.Module, optimizer:torch.optim, loss_fn:callable):\n",
    "    nlotes = len(loader)\n",
    "    # train_size = len(loader.dataset)\n",
    "\n",
    "    model.train()   #Preparo el modelo para el entrenamiento\n",
    "\n",
    "    train_losses = 0\n",
    "\n",
    "    losses_list = []\n",
    "\n",
    "    for nlote,(x,_) in enumerate(loader):\n",
    "        x = x.cuda()\n",
    "\n",
    "        # Forward Pass\n",
    "        logits = model(x)\n",
    "\n",
    "        # Backpropagation\n",
    "        loss = loss_fn(logits,x)    #Calculo de loss\n",
    "        loss.backward()             #Calculo de gradiente\n",
    "        optimizer.step()            #Actualización de parámetros\n",
    "        optimizer.zero_grad()       #Limpieza del optimizador\n",
    "\n",
    "        #Guardamos algunas caractgerísticas para plotear al final\n",
    "        train_losses += loss.item()\n",
    "        losses_list.append(loss.item())\n",
    "        # train_accuracy += (logits.argmax(1)==y).type(torch.float).sum().item()\n",
    "\n",
    "        #Muestra del proceso\n",
    "        if nlote % 10 == 0:\n",
    "            print(\"Nº de lote: \",nlote)\n",
    "            print(\"Loss: \",loss.item())\n",
    "\n",
    "    train_losses /= nlotes\n",
    "    # train_accuracy /= train_size\n",
    "    print()\n",
    "    print(\"\\tAccuracy/Loss Promedio\")\n",
    "    # print(f\"\\t\\tEntrenamiento: {(100*train_accuracy):>0.1f}% / {train_losses:>8f}\")\n",
    "    print(f\"\\t\\tEntrenamiento: {train_losses:>8f}\")\n",
    "\n",
    "    return losses_list"
   ]
  },
  {
   "cell_type": "code",
   "execution_count": 16,
   "metadata": {},
   "outputs": [],
   "source": [
    "def val_loop(loader:torch.utils.data.DataLoader, model:nn.Module, loss_fn:callable):\n",
    "    \n",
    "    # val_size = len(loader.dataset)\n",
    "    nlotes = len(loader)\n",
    "\n",
    "    model.eval()         #Preparo el modelo para inferencia\n",
    "\n",
    "    val_losses = 0\n",
    "    losses_list = []\n",
    "\n",
    "    with torch.no_grad():       #Calcelo el calculo del gradiente\n",
    "        for x,_ in loader:\n",
    "            \n",
    "            x = x.cuda()\n",
    "            with torch.no_grad():\n",
    "                logits = model(x)       # Inferencia\n",
    "            \n",
    "            loss = loss_fn(logits,x).item()\n",
    "\n",
    "            val_losses += loss\n",
    "            losses_list.append(loss)\n",
    "            # val_accuracy += (logits.argmax(1)==y).type(torch.float).sum().item()\n",
    "\n",
    "    val_losses /= nlotes\n",
    "    # val_accuracy /= val_size\n",
    "\n",
    "    # print(f\"\\t\\tValidación: {(100*val_accuracy):>0.1f}% / {val_losses:>8f}\")\n",
    "    print(f\"\\t\\t VAlidación: {val_losses:>8f}\")\n",
    "\n",
    "    return losses_list\n"
   ]
  },
  {
   "cell_type": "code",
   "execution_count": 17,
   "metadata": {},
   "outputs": [],
   "source": [
    "epochs = 10\n",
    "lr = 0.0001\n",
    "\n",
    "loss = nn.functional.mse_loss\n",
    "optimizer = torch.optim.AdamW(model.parameters(),lr=lr,eps=1e-5)"
   ]
  },
  {
   "cell_type": "code",
   "execution_count": 18,
   "metadata": {},
   "outputs": [
    {
     "name": "stdout",
     "output_type": "stream",
     "text": [
      "Itenración: 1 / 10 -----------------------------\n",
      "Nº de lote:  0\n",
      "Loss:  8.205970764160156\n",
      "Nº de lote:  10\n",
      "Loss:  0.7775081992149353\n",
      "Nº de lote:  20\n",
      "Loss:  0.24955186247825623\n",
      "Nº de lote:  30\n",
      "Loss:  0.13079948723316193\n",
      "Nº de lote:  40\n",
      "Loss:  0.09288680553436279\n",
      "Nº de lote:  50\n",
      "Loss:  0.07838495075702667\n",
      "Nº de lote:  60\n",
      "Loss:  0.06991545855998993\n",
      "Nº de lote:  70\n",
      "Loss:  0.06678470224142075\n",
      "Nº de lote:  80\n",
      "Loss:  0.06558775156736374\n",
      "Nº de lote:  90\n",
      "Loss:  0.06495265662670135\n",
      "\n",
      "\tAccuracy/Loss Promedio\n",
      "\t\tEntrenamiento: 0.471238\n",
      "\t\t VAlidación: 0.064124\n",
      "Itenración: 2 / 10 -----------------------------\n",
      "Nº de lote:  0\n",
      "Loss:  0.06368991732597351\n",
      "Nº de lote:  10\n",
      "Loss:  0.0622442290186882\n",
      "Nº de lote:  20\n",
      "Loss:  0.061662882566452026\n",
      "Nº de lote:  30\n",
      "Loss:  0.06298013031482697\n",
      "Nº de lote:  40\n",
      "Loss:  0.060059383511543274\n",
      "Nº de lote:  50\n",
      "Loss:  0.060795966535806656\n",
      "Nº de lote:  60\n",
      "Loss:  0.05926498398184776\n",
      "Nº de lote:  70\n",
      "Loss:  0.060065776109695435\n",
      "Nº de lote:  80\n",
      "Loss:  0.05892883241176605\n",
      "Nº de lote:  90\n",
      "Loss:  0.05758700519800186\n",
      "\n",
      "\tAccuracy/Loss Promedio\n",
      "\t\tEntrenamiento: 0.060516\n",
      "\t\t VAlidación: 0.058037\n",
      "Itenración: 3 / 10 -----------------------------\n",
      "Nº de lote:  0\n",
      "Loss:  0.05755960941314697\n",
      "Nº de lote:  10\n",
      "Loss:  0.057004909962415695\n",
      "Nº de lote:  20\n",
      "Loss:  0.05636044964194298\n",
      "Nº de lote:  30\n",
      "Loss:  0.05672011151909828\n",
      "Nº de lote:  40\n",
      "Loss:  0.05778280645608902\n",
      "Nº de lote:  50\n",
      "Loss:  0.05566173046827316\n",
      "Nº de lote:  60\n",
      "Loss:  0.05530939996242523\n",
      "Nº de lote:  70\n",
      "Loss:  0.056397031992673874\n",
      "Nº de lote:  80\n",
      "Loss:  0.05653653293848038\n",
      "Nº de lote:  90\n",
      "Loss:  0.05511851981282234\n",
      "\n",
      "\tAccuracy/Loss Promedio\n",
      "\t\tEntrenamiento: 0.056220\n",
      "\t\t VAlidación: 0.054896\n",
      "Itenración: 4 / 10 -----------------------------\n",
      "Nº de lote:  0\n",
      "Loss:  0.05428627133369446\n",
      "Nº de lote:  10\n",
      "Loss:  0.05419955030083656\n",
      "Nº de lote:  20\n",
      "Loss:  0.05381879583001137\n",
      "Nº de lote:  30\n",
      "Loss:  0.053892530500888824\n",
      "Nº de lote:  40\n",
      "Loss:  0.053527675569057465\n",
      "Nº de lote:  50\n",
      "Loss:  0.05266749858856201\n",
      "Nº de lote:  60\n",
      "Loss:  0.0523899644613266\n",
      "Nº de lote:  70\n",
      "Loss:  0.0522320531308651\n",
      "Nº de lote:  80\n",
      "Loss:  0.05369747430086136\n",
      "Nº de lote:  90\n",
      "Loss:  0.05391576886177063\n",
      "\n",
      "\tAccuracy/Loss Promedio\n",
      "\t\tEntrenamiento: 0.053570\n",
      "\t\t VAlidación: 0.052769\n",
      "Itenración: 5 / 10 -----------------------------\n",
      "Nº de lote:  0\n",
      "Loss:  0.05342495068907738\n",
      "Nº de lote:  10\n",
      "Loss:  0.05350976809859276\n",
      "Nº de lote:  20\n",
      "Loss:  0.05113201215863228\n",
      "Nº de lote:  30\n",
      "Loss:  0.05099152773618698\n",
      "Nº de lote:  40\n",
      "Loss:  0.052334580570459366\n",
      "Nº de lote:  50\n",
      "Loss:  0.052232250571250916\n",
      "Nº de lote:  60\n",
      "Loss:  0.05115419626235962\n",
      "Nº de lote:  70\n",
      "Loss:  0.05073700472712517\n",
      "Nº de lote:  80\n",
      "Loss:  0.05182601884007454\n",
      "Nº de lote:  90\n",
      "Loss:  0.05079154297709465\n",
      "\n",
      "\tAccuracy/Loss Promedio\n",
      "\t\tEntrenamiento: 0.051914\n",
      "\t\t VAlidación: 0.051467\n",
      "Itenración: 6 / 10 -----------------------------\n",
      "Nº de lote:  0\n",
      "Loss:  0.05155407264828682\n",
      "Nº de lote:  10\n",
      "Loss:  0.052165959030389786\n",
      "Nº de lote:  20\n",
      "Loss:  0.05132721737027168\n",
      "Nº de lote:  30\n",
      "Loss:  0.050741903483867645\n",
      "Nº de lote:  40\n",
      "Loss:  0.051710814237594604\n",
      "Nº de lote:  50\n",
      "Loss:  0.050424233078956604\n",
      "Nº de lote:  60\n",
      "Loss:  0.0505877286195755\n",
      "Nº de lote:  70\n",
      "Loss:  0.05078111216425896\n",
      "Nº de lote:  80\n",
      "Loss:  0.051482584327459335\n",
      "Nº de lote:  90\n",
      "Loss:  0.052535343915224075\n",
      "\n",
      "\tAccuracy/Loss Promedio\n",
      "\t\tEntrenamiento: 0.051049\n",
      "\t\t VAlidación: 0.051892\n",
      "Itenración: 7 / 10 -----------------------------\n",
      "Nº de lote:  0\n",
      "Loss:  0.05166539549827576\n",
      "Nº de lote:  10\n",
      "Loss:  0.05192131921648979\n",
      "Nº de lote:  20\n",
      "Loss:  0.04948613792657852\n",
      "Nº de lote:  30\n",
      "Loss:  0.05526328086853027\n",
      "Nº de lote:  40\n",
      "Loss:  0.049931738525629044\n",
      "Nº de lote:  50\n",
      "Loss:  0.050148166716098785\n",
      "Nº de lote:  60\n",
      "Loss:  0.05238360911607742\n",
      "Nº de lote:  70\n",
      "Loss:  0.05102211982011795\n",
      "Nº de lote:  80\n",
      "Loss:  0.052934493869543076\n",
      "Nº de lote:  90\n",
      "Loss:  0.04871491715312004\n",
      "\n",
      "\tAccuracy/Loss Promedio\n",
      "\t\tEntrenamiento: 0.051262\n",
      "\t\t VAlidación: 0.053137\n",
      "Itenración: 8 / 10 -----------------------------\n",
      "Nº de lote:  0\n",
      "Loss:  0.05188998207449913\n",
      "Nº de lote:  10\n",
      "Loss:  0.05077985301613808\n",
      "Nº de lote:  20\n",
      "Loss:  0.05134918540716171\n",
      "Nº de lote:  30\n",
      "Loss:  0.04891686141490936\n",
      "Nº de lote:  40\n",
      "Loss:  0.052620381116867065\n",
      "Nº de lote:  50\n",
      "Loss:  0.048157185316085815\n",
      "Nº de lote:  60\n",
      "Loss:  0.050217851996421814\n",
      "Nº de lote:  70\n",
      "Loss:  0.04957739636301994\n",
      "Nº de lote:  80\n",
      "Loss:  0.049589887261390686\n",
      "Nº de lote:  90\n",
      "Loss:  0.0545659065246582\n",
      "\n",
      "\tAccuracy/Loss Promedio\n",
      "\t\tEntrenamiento: 0.050704\n",
      "\t\t VAlidación: 0.051167\n",
      "Itenración: 9 / 10 -----------------------------\n",
      "Nº de lote:  0\n",
      "Loss:  0.0506705716252327\n",
      "Nº de lote:  10\n",
      "Loss:  0.05045321211218834\n",
      "Nº de lote:  20\n",
      "Loss:  0.04857313260436058\n",
      "Nº de lote:  30\n",
      "Loss:  0.047946471720933914\n",
      "Nº de lote:  40\n",
      "Loss:  0.05198778212070465\n",
      "Nº de lote:  50\n",
      "Loss:  0.05042048916220665\n",
      "Nº de lote:  60\n",
      "Loss:  0.0507691390812397\n",
      "Nº de lote:  70\n",
      "Loss:  0.050208594650030136\n",
      "Nº de lote:  80\n",
      "Loss:  0.048378001898527145\n",
      "Nº de lote:  90\n",
      "Loss:  0.05031367018818855\n",
      "\n",
      "\tAccuracy/Loss Promedio\n",
      "\t\tEntrenamiento: 0.049896\n",
      "\t\t VAlidación: 0.050843\n",
      "Itenración: 10 / 10 -----------------------------\n",
      "Nº de lote:  0\n",
      "Loss:  0.04948428273200989\n",
      "Nº de lote:  10\n",
      "Loss:  0.04840165376663208\n",
      "Nº de lote:  20\n",
      "Loss:  0.05031149089336395\n",
      "Nº de lote:  30\n",
      "Loss:  0.05020426958799362\n",
      "Nº de lote:  40\n",
      "Loss:  0.052886877208948135\n",
      "Nº de lote:  50\n",
      "Loss:  0.0480855368077755\n",
      "Nº de lote:  60\n",
      "Loss:  0.048965927213430405\n",
      "Nº de lote:  70\n",
      "Loss:  0.05802512541413307\n",
      "Nº de lote:  80\n",
      "Loss:  0.04891446977853775\n",
      "Nº de lote:  90\n",
      "Loss:  0.04921552911400795\n",
      "\n",
      "\tAccuracy/Loss Promedio\n",
      "\t\tEntrenamiento: 0.049933\n",
      "\t\t VAlidación: 0.049683\n",
      "Finalizado entrenamiento del modelo!\n"
     ]
    }
   ],
   "source": [
    "training_losses = []\n",
    "val_losses = []\n",
    "for epoch in range(epochs):\n",
    "    print(f\"Itenración: {(epoch + 1)} / {epochs} -----------------------------\")\n",
    "    \n",
    "    #Train\n",
    "    tain_output = train_loop(train_loader,model,optimizer,loss)\n",
    "    training_losses += tain_output\n",
    "    \n",
    "    #Validation\n",
    "    val_output = val_loop(val_loader,model,loss)\n",
    "    val_losses += val_output\n",
    "\n",
    "print(\"Finalizado entrenamiento del modelo!\")"
   ]
  },
  {
   "cell_type": "code",
   "execution_count": 19,
   "metadata": {},
   "outputs": [
    {
     "data": {
      "image/png": "[encoded data removed]",
      "text/plain": [
       "<Figure size 640x480 with 1 Axes>"
      ]
     },
     "metadata": {},
     "output_type": "display_data"
    }
   ],
   "source": [
    "# len(val_losses)\n",
    "\n",
    "plt.plot(range(len(training_losses)),training_losses,\"b*\",range(8,(len(val_losses)+1)*8,8),val_losses,\"r.\")\n",
    "plt.grid()\n",
    "\n"
   ]
  },
  {
   "cell_type": "code",
   "execution_count": 22,
   "metadata": {},
   "outputs": [
    {
     "data": {
      "image/png": "[encoded data removed]",
      "text/plain": [
       "<Figure size 640x480 with 1 Axes>"
      ]
     },
     "metadata": {},
     "output_type": "display_data"
    }
   ],
   "source": [
    "original_img = test[torch.randint(len(test),size=(1,))][0].unsqueeze(0).cuda()\n",
    "\n",
    "processed_img = model(original_img)\n",
    "plt.imshow(original_img.cpu().squeeze(),cmap=\"grey\");"
   ]
  },
  {
   "cell_type": "code",
   "execution_count": 23,
   "metadata": {},
   "outputs": [
    {
     "data": {
      "image/png": "[encoded data removed]",
      "text/plain": [
       "<Figure size 640x480 with 1 Axes>"
      ]
     },
     "metadata": {},
     "output_type": "display_data"
    }
   ],
   "source": [
    "plt.imshow(processed_img.cpu().detach().squeeze(),cmap=\"grey\");"
   ]
  },
  {
   "cell_type": "markdown",
   "metadata": {},
   "source": [
    "## Interpretación de Espacio latente"
   ]
  },
  {
   "cell_type": "code",
   "execution_count": 24,
   "metadata": {},
   "outputs": [],
   "source": [
    "# latent_coords = torch.zeros((len(test),2,1))\n",
    "\n",
    "test_output = {\n",
    "    0:[[],[]],\n",
    "    1:[[],[]],\n",
    "    2:[[],[]],\n",
    "    3:[[],[]],\n",
    "    4:[[],[]],\n",
    "    5:[[],[]],\n",
    "    6:[[],[]],\n",
    "    7:[[],[]],\n",
    "    8:[[],[]],\n",
    "    9:[[],[]]\n",
    "}\n",
    "\n",
    "model.eval()\n",
    "for img,lbl in test:\n",
    "\n",
    "    # lbls_list.append(lbl)\n",
    "\n",
    "    with torch.no_grad():\n",
    "        output = model.encode(img.cuda().unsqueeze(1))\n",
    "    \n",
    "    test_output[lbl][0].append(output[0].cpu().tolist()[0])\n",
    "    test_output[lbl][1].append(output[0].cpu().tolist()[1])"
   ]
  },
  {
   "cell_type": "code",
   "execution_count": null,
   "metadata": {},
   "outputs": [],
   "source": [
    "test_output.keys()"
   ]
  },
  {
   "cell_type": "code",
   "execution_count": 25,
   "metadata": {},
   "outputs": [
    {
     "data": {
      "image/png": "[encoded data removed]",
      "text/plain": [
       "<Figure size 640x480 with 1 Axes>"
      ]
     },
     "metadata": {},
     "output_type": "display_data"
    }
   ],
   "source": [
    "for key in test_output.keys():\n",
    "    plt.scatter(test_output[key][0],test_output[key][1],label=key);\n",
    "    # plt.plot(latent_coords[idx][0],latent_coords[idx][1],\"*\")\n",
    "plt.legend();"
   ]
  }
 ],
 "metadata": {
  "kernelspec": {
   "display_name": ".venv",
   "language": "python",
   "name": "python3"
  },
  "language_info": {
   "codemirror_mode": {
    "name": "ipython",
    "version": 3
   },
   "file_extension": ".py",
   "mimetype": "text/x-python",
   "name": "python",
   "nbconvert_exporter": "python",
   "pygments_lexer": "ipython3",
   "version": "3.11.11"
  }
 },
 "nbformat": 4,
 "nbformat_minor": 2
}
