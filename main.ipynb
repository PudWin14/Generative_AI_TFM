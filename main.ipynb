{
 "cells": [
  {
   "cell_type": "code",
   "execution_count": 53,
   "metadata": {},
   "outputs": [
    {
     "name": "stdout",
     "output_type": "stream",
     "text": [
      "Num GPUs Available:  1\n",
      "\n",
      "[PhysicalDevice(name='/physical_device:GPU:0', device_type='GPU')]\n"
     ]
    }
   ],
   "source": [
    "import tensorflow as tf\n",
    "import keras\n",
    "\n",
    "print(\"Num GPUs Available: \", len(tf.config.list_physical_devices('GPU')))\n",
    "\n",
    "print()\n",
    "\n",
    "print(tf.config.list_physical_devices('GPU'))\n"
   ]
  },
  {
   "cell_type": "code",
   "execution_count": 2,
   "metadata": {},
   "outputs": [],
   "source": [
    "import numpy as np\n",
    "import matplotlib.pyplot as plt\n",
    "import math"
   ]
  },
  {
   "cell_type": "code",
   "execution_count": 3,
   "metadata": {},
   "outputs": [],
   "source": [
    "a = np.arange(0,3*math.pi,0.01)\n",
    "b = np.cos(a)"
   ]
  },
  {
   "cell_type": "code",
   "execution_count": 4,
   "metadata": {},
   "outputs": [
    {
     "data": {
      "text/plain": [
       "[<matplotlib.lines.Line2D at 0x7fca0115d310>]"
      ]
     },
     "execution_count": 4,
     "metadata": {},
     "output_type": "execute_result"
    },
    {
     "data": {
      "image/png": "[encoded data removed]",
      "text/plain": [
       "<Figure size 640x480 with 1 Axes>"
      ]
     },
     "metadata": {},
     "output_type": "display_data"
    }
   ],
   "source": [
    "plt.plot(a,b)"
   ]
  },
  {
   "cell_type": "code",
   "execution_count": 9,
   "metadata": {},
   "outputs": [
    {
     "name": "stdout",
     "output_type": "stream",
     "text": [
      "tf.Tensor(\n",
      "[[1.]\n",
      " [1.]], shape=(2, 1), dtype=float32)\n",
      "[[1.]\n",
      " [1.]]\n"
     ]
    }
   ],
   "source": [
    "x = tf.ones((2,1))\n",
    "\n",
    "print(x)\n",
    "\n",
    "y = np.ones((2,1))\n",
    "print(y)"
   ]
  },
  {
   "cell_type": "code",
   "execution_count": 40,
   "metadata": {},
   "outputs": [
    {
     "name": "stdout",
     "output_type": "stream",
     "text": [
      "<tf.Variable 'Variable:0' shape=(3, 2) dtype=float32, numpy=\n",
      "array([[2.1910505 , 0.8439076 ],\n",
      "       [1.5042669 , 4.0343685 ],\n",
      "       [2.7099066 , 0.05422831]], dtype=float32)>\n",
      "Assign\n",
      "<tf.Variable 'Variable:0' shape=(3, 2) dtype=float32, numpy=\n",
      "array([[2.1910505 , 0.8439076 ],\n",
      "       [0.        , 0.        ],\n",
      "       [2.7099066 , 0.05422831]], dtype=float32)>\n",
      "Assign add\n",
      "<tf.Variable 'Variable:0' shape=(3, 2) dtype=float32, numpy=\n",
      "array([[3.1910505, 1.8439076],\n",
      "       [1.       , 1.       ],\n",
      "       [3.7099066, 1.0542283]], dtype=float32)>\n"
     ]
    }
   ],
   "source": [
    "x = tf.Variable(initial_value=tf.random.uniform((3,2),minval=0.,maxval=5))\n",
    "\n",
    "# x = [[1,1],[2,2]]\n",
    "print(x)\n",
    "print(\"Assign\")\n",
    "x[1,:].assign(tf.zeros((1,2)))\n",
    "\n",
    "print(x)\n",
    "\n",
    "print(\"Assign add\")\n",
    "x.assign_add(tf.ones((3,2)))\n",
    "\n",
    "print(x)"
   ]
  },
  {
   "cell_type": "code",
   "execution_count": 54,
   "metadata": {},
   "outputs": [
    {
     "name": "stdout",
     "output_type": "stream",
     "text": [
      "tf.Tensor(\n",
      "[[3.0090127 3.5932407]\n",
      " [2.6043985 2.8894897]], shape=(2, 2), dtype=float32)\n",
      "tf.Tensor(\n",
      "[[ 9.054157  12.911379 ]\n",
      " [ 6.7828913  8.349151 ]], shape=(2, 2), dtype=float32)\n",
      "tf.Tensor(\n",
      "[[1.7346506 1.8955846]\n",
      " [1.6138148 1.6998498]], shape=(2, 2), dtype=float32)\n"
     ]
    }
   ],
   "source": [
    "x = tf.random.uniform((2,2),minval=2,maxval=4)\n",
    "print(x)\n",
    "x2=tf.square(x)\n",
    "print(x2)\n",
    "with tf.device('/CPU:0'):\n",
    "    sqr_x=tf.sqrt(x)\n",
    "print(sqr_x)"
   ]
  },
  {
   "cell_type": "code",
   "execution_count": 76,
   "metadata": {},
   "outputs": [
    {
     "name": "stdout",
     "output_type": "stream",
     "text": [
      "<tf.Variable 'Variable:0' shape=(2, 2) dtype=float32, numpy=\n",
      "array([[4.215236 , 2.3165145],\n",
      "       [1.0863423, 1.403688 ]], dtype=float32)>\n",
      "tf.Tensor(\n",
      "[[17.768215   5.3662395]\n",
      " [ 1.1801397  1.9703399]], shape=(2, 2), dtype=float32)\n",
      "tf.Tensor(\n",
      "[[8.430472  4.633029 ]\n",
      " [2.1726847 2.807376 ]], shape=(2, 2), dtype=float32)\n"
     ]
    }
   ],
   "source": [
    "input=tf.Variable(initial_value=tf.random.uniform((2,2),minval=1,maxval=5))\n",
    "\n",
    "print(input)\n",
    "\n",
    "with tf.GradientTape() as tape:\n",
    "    result = tf.square(input)\n",
    "\n",
    "gradient = tape.gradient(result,input)\n",
    "print(result)\n",
    "print(gradient)"
   ]
  },
  {
   "cell_type": "code",
   "execution_count": 68,
   "metadata": {},
   "outputs": [
    {
     "data": {
      "text/plain": [
       "<tf.Tensor: shape=(2, 2), dtype=float32, numpy=\n",
       "array([[8.696833 , 7.0715365],\n",
       "       [6.9877086, 5.3624125]], dtype=float32)>"
      ]
     },
     "execution_count": 68,
     "metadata": {},
     "output_type": "execute_result"
    }
   ],
   "source": [
    "gradient"
   ]
  }
 ],
 "metadata": {
  "kernelspec": {
   "display_name": ".venv",
   "language": "python",
   "name": "python3"
  },
  "language_info": {
   "codemirror_mode": {
    "name": "ipython",
    "version": 3
   },
   "file_extension": ".py",
   "mimetype": "text/x-python",
   "name": "python",
   "nbconvert_exporter": "python",
   "pygments_lexer": "ipython3",
   "version": "3.11.11"
  }
 },
 "nbformat": 4,
 "nbformat_minor": 2
}
