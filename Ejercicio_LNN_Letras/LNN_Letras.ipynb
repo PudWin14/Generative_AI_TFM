{
 "cells": [
  {
   "cell_type": "code",
   "execution_count": 1,
   "metadata": {},
   "outputs": [],
   "source": [
    "import kagglehub\n",
    "import torch\n",
    "from pandas import read_csv,concat\n",
    "import matplotlib.pyplot as plt\n",
    "# import numpy as np"
   ]
  },
  {
   "cell_type": "code",
   "execution_count": 2,
   "metadata": {},
   "outputs": [
    {
     "name": "stdout",
     "output_type": "stream",
     "text": [
      "Warning: Looks like you're using an outdated `kagglehub` version (installed: 0.3.8), please consider upgrading to the latest version (0.3.10).\n"
     ]
    }
   ],
   "source": [
    "# Import the Dataset from kaggle and load on a Tensor\n",
    "Nist_dataset = kagglehub.dataset_download(\"sachinpatel21/az-handwritten-alphabets-in-csv-format\")\n",
    "\n",
    "chunksize = 250\n",
    "\n",
    "# the list that contains all the dataframes\n",
    "list_of_dataframes = []\n",
    "\n",
    "for df in read_csv(Nist_dataset+\"/A_Z Handwritten Data.csv\", chunksize=chunksize):\n",
    "    # process your data frame here\n",
    "    # then add the current data frame into the list\n",
    "    list_of_dataframes.append(df)\n",
    "\n",
    "# if you want all the dataframes together, here it is\n",
    "handwritten_alphabet = concat(list_of_dataframes)\n",
    "\n",
    "\n",
    "\n",
    "# handwritten_alphabet = read_csv(Nist_dataset+\"/A_Z Handwritten Data.csv\")\n",
    "# print(handwritten_alphabet)\n",
    "handwritten_alphabet = torch.Tensor(handwritten_alphabet.values).cuda()"
   ]
  },
  {
   "cell_type": "code",
   "execution_count": 6,
   "metadata": {},
   "outputs": [],
   "source": [
    "from string import ascii_uppercase\n",
    "\n",
    "# Crear una lista de letras del abecedario\n",
    "letras = list(ascii_uppercase)  # Para mayúsculas, usa ascii_uppercase; para minúsculas, usa ascii_lowercase\n",
    "\n",
    "# Crear el diccionario\n",
    "alphabet_dictionary = {i: letras[i] for i in range(26)}"
   ]
  },
  {
   "cell_type": "code",
   "execution_count": 7,
   "metadata": {},
   "outputs": [],
   "source": [
    "# Split The data on Images and Labels\n",
    "# handwritten_alphabet[:,0]\n",
    "handwritten_alphabet_classes = handwritten_alphabet[:,0].long()\n",
    "handwritten_alphabet_images = handwritten_alphabet[:,1:].reshape((-1,28,28))"
   ]
  },
  {
   "cell_type": "code",
   "execution_count": 8,
   "metadata": {},
   "outputs": [],
   "source": [
    "#Create a Dataset Class to load the Images and labels\n",
    "class image_dataset(torch.utils.data.Dataset):\n",
    "    def __init__(self,images:torch.Tensor,labels:torch.Tensor):\n",
    "        if len(images[:]) != len(labels):\n",
    "            raise IndexError(\"The size must be the same\")\n",
    "        self.images = images\n",
    "        self.labels = labels\n",
    "\n",
    "    def __getitem__(self, index):\n",
    "        image = self.images[None,index]\n",
    "        label = self.labels[None,index]\n",
    "        return image, label\n",
    "    \n",
    "    def __len__(self):\n",
    "        return len(self.labels)"
   ]
  },
  {
   "cell_type": "code",
   "execution_count": 9,
   "metadata": {},
   "outputs": [],
   "source": [
    "# Create and Split the dataset on Train, Validation and Test Datasets\n",
    "image_dataset = image_dataset(handwritten_alphabet_images,handwritten_alphabet_classes)\n",
    "\n",
    "train,val,test = torch.utils.data.random_split(image_dataset,[0.8,0.1,0.1])\n"
   ]
  },
  {
   "cell_type": "code",
   "execution_count": null,
   "metadata": {},
   "outputs": [],
   "source": [
    "# # Show a data example\n",
    "# img,lbl = train[torch.randint(len(train),size=(1,))]\n",
    "# plt.imshow(img.squeeze().cpu())\n",
    "# print(alphabet_dictionary[lbl.cpu().item()])"
   ]
  },
  {
   "cell_type": "code",
   "execution_count": 10,
   "metadata": {},
   "outputs": [],
   "source": [
    "from torch import nn\n",
    "class image_clasifier_nn(nn.Module):\n",
    "\n",
    "    def __init__(self,image_size:int, number_of_classes:int):\n",
    "        super().__init__()\n",
    "        self.aplanar = nn.Flatten() # Aplana las imágenes\n",
    "        self.red = nn.Sequential(\n",
    "            nn.Linear(image_size*image_size,75),    #Capa de entrada\n",
    "            nn.ReLU(),                              #Activación de capa entrada\n",
    "            nn.Linear(75,number_of_classes),        #Capa profunda intermedia\n",
    "            nn.Softmax(1)                           #Capa de salida softmax\n",
    "        )\n",
    "\n",
    "\n",
    "\n",
    "    def forward(self, x):\n",
    "        x = self.aplanar(x)\n",
    "        outputs = self.red(x)\n",
    "\n",
    "        return outputs\n",
    "    \n"
   ]
  },
  {
   "cell_type": "code",
   "execution_count": 11,
   "metadata": {},
   "outputs": [],
   "source": [
    "#Create the neural Network\n",
    "Letter_classifier = image_clasifier_nn(28,len(alphabet_dictionary)).cuda()"
   ]
  },
  {
   "cell_type": "code",
   "execution_count": null,
   "metadata": {},
   "outputs": [],
   "source": [
    "# from torchsummary import summary\n",
    "\n",
    "# summary(Letter_classifier,(28,28))"
   ]
  },
  {
   "cell_type": "code",
   "execution_count": 12,
   "metadata": {},
   "outputs": [
    {
     "name": "stdout",
     "output_type": "stream",
     "text": [
      "E\n",
      "Predicción:  Y\n"
     ]
    },
    {
     "data": {
      "image/png": "[encoded data removed]",
      "text/plain": [
       "<Figure size 640x480 with 1 Axes>"
      ]
     },
     "metadata": {},
     "output_type": "display_data"
    }
   ],
   "source": [
    "# Tray untrained network\n",
    "img,lbl = train[torch.randint(len(train),size=(1,))]\n",
    "plt.imshow(img.squeeze().cpu())\n",
    "\n",
    "prediction = Letter_classifier(img)[0]\n",
    "\n",
    "print(alphabet_dictionary[lbl.cpu().item()])\n",
    "print(\"Predicción: \",alphabet_dictionary[prediction.argmax().item()])"
   ]
  },
  {
   "cell_type": "code",
   "execution_count": 13,
   "metadata": {},
   "outputs": [],
   "source": [
    "batch_size = 500\n",
    "\n",
    "train_loader = torch.utils.data.DataLoader(\n",
    "    dataset=train,\n",
    "    shuffle=True,\n",
    "    batch_size=batch_size\n",
    ")\n",
    "\n",
    "val_loader = torch.utils.data.DataLoader(\n",
    "    dataset=val,\n",
    "    shuffle=True,\n",
    "    batch_size=batch_size\n",
    ")"
   ]
  },
  {
   "cell_type": "code",
   "execution_count": 14,
   "metadata": {},
   "outputs": [],
   "source": [
    "epochs = 10\n",
    "learning_rate = 0.1\n",
    "\n",
    "loss = nn.CrossEntropyLoss()\n",
    "optimizer = torch.optim.SGD(Letter_classifier.parameters(), lr=learning_rate)"
   ]
  },
  {
   "cell_type": "code",
   "execution_count": 31,
   "metadata": {},
   "outputs": [
    {
     "data": {
      "text/plain": [
       "torch.Size([20, 26])"
      ]
     },
     "execution_count": 31,
     "metadata": {},
     "output_type": "execute_result"
    }
   ],
   "source": [
    "img = torch.rand((20,1,28,28)).cuda()\n",
    "logits = Letter_classifier(img)\n",
    "logits.shape\n"
   ]
  },
  {
   "cell_type": "code",
   "execution_count": 38,
   "metadata": {},
   "outputs": [
    {
     "data": {
      "text/plain": [
       "torch.Size([20, 1])"
      ]
     },
     "execution_count": 38,
     "metadata": {},
     "output_type": "execute_result"
    }
   ],
   "source": [
    "loader_prueba = torch.utils.data.DataLoader(\n",
    "    dataset=train,\n",
    "    shuffle=True,\n",
    "    batch_size=20\n",
    ")\n",
    "_,lbls = next(iter(loader_prueba))\n",
    "lbls.shape"
   ]
  },
  {
   "cell_type": "code",
   "execution_count": 40,
   "metadata": {},
   "outputs": [
    {
     "data": {
      "text/plain": [
       "torch.Size([20])"
      ]
     },
     "execution_count": 40,
     "metadata": {},
     "output_type": "execute_result"
    }
   ],
   "source": [
    "lbls[:,0].shape"
   ]
  },
  {
   "cell_type": "code",
   "execution_count": null,
   "metadata": {},
   "outputs": [],
   "source": [
    "def train_loop(loader:torch.utils.data.DataLoader, model : nn.Module, optimizer:torch.optim, loss_fn:callable):\n",
    "    nlotes = len(loader)\n",
    "    train_size = len(loader.dataset)\n",
    "\n",
    "    model.train()   #Preparo el modelo para el entrenamiento\n",
    "\n",
    "    train_losses, train_accuracy = 0,0\n",
    "\n",
    "    for nlote,(x,y) in enumerate(loader):\n",
    "        x,y = x.cuda(), y.cuda()[:,0]\n",
    "\n",
    "        # Forward Pass\n",
    "        logits = model(x)\n",
    "\n",
    "        # Backpropagation\n",
    "        loss = loss_fn(logits,y)    #Calculo de loss\n",
    "        loss.backward()             #Calculo de gradiente\n",
    "        optimizer.step()            #Actualización de parámetros\n",
    "        optimizer.zero_grad()       #Limpieza del optimizador\n",
    "\n",
    "        #Guardamos algunas caractgerísticas para plotear al final\n",
    "        train_losses += loss.item()\n",
    "        train_accuracy += (logits.argmax(1)==y).type(torch.float).sum().item()\n",
    "\n",
    "        #Muestra del proceso\n",
    "        if nlote % 10 == 0:\n",
    "            print(\"Nº de lote: \",nlote)\n",
    "            print(\"Loss: \",loss.item())\n",
    "\n",
    "    train_losses /= nlotes\n",
    "    train_accuracy /= train_size\n",
    "    \n",
    "    print()\n",
    "    print(\"\\tAccuracy/Loss Promedio\")\n",
    "    print(f\"\\t\\tEntrenamiento: {(100*train_accuracy):>0.1f}% / {train_losses:>8f}\")"
   ]
  },
  {
   "cell_type": "code",
   "execution_count": null,
   "metadata": {},
   "outputs": [],
   "source": [
    "# accuracy = 0\n",
    "# for n_lote in range(len(train_loader)):\n",
    "#     batch = next(iter(train_loader))\n",
    "\n",
    "#     x = batch[0].cuda()\n",
    "#     y = batch[1].cuda()[:,0]\n",
    "\n",
    "#     output_logits = Letter_classifier(x)\n",
    "\n",
    "#     perdida = loss(output_logits,y)\n",
    "#     perdida.backward()\n",
    "    \n",
    "#     if not n_lote%10:\n",
    "#         print(f\"Lote Nº {n_lote}/{len(train_loader)}: {perdida} Loss\")\n",
    "\n",
    "#     optimizer.step()\n",
    "#     optimizer.zero_grad()\n",
    "\n",
    "#     accuracy += (output_logits.argmax(1)==y).type(torch.float).sum().item()\n",
    "\n",
    "\n",
    "# accuracy /= len(train_loader.dataset)\n",
    "# print(\"Accuracy: \",100*accuracy,\"%\")\n"
   ]
  },
  {
   "cell_type": "code",
   "execution_count": null,
   "metadata": {},
   "outputs": [],
   "source": [
    "def val_loop(loader:torch.utils.data.DataLoader, model:nn.Module, loss_fn:callable):\n",
    "    \n",
    "    val_size = len(loader.dataset)\n",
    "    nlotes = len(loader)\n",
    "\n",
    "    model.eval()         #Preparo el modelo para inferencia\n",
    "\n",
    "    val_losses, val_accuracy = 0,0\n",
    "\n",
    "    with torch.no_grad():       #Calcelo el calculo del gradiente\n",
    "        for x,y in loader:\n",
    "            \n",
    "            x,y = x.cuda(), y.cuda()[:,0]\n",
    "\n",
    "            logits = model(x)       # Inferencia\n",
    "            \n",
    "            val_losses += loss_fn(logits,y.long()).item()\n",
    "            val_accuracy += (logits.argmax(1)==y).type(torch.float).sum().item()\n",
    "\n",
    "    val_losses /= nlotes\n",
    "    val_accuracy /= val_size\n",
    "\n",
    "    print(f\"\\t\\tValidación: {(100*val_accuracy):>0.1f}% / {val_losses:>8f}\")\n",
    "\n"
   ]
  },
  {
   "cell_type": "code",
   "execution_count": null,
   "metadata": {},
   "outputs": [],
   "source": [
    "for epoch in range(epochs):\n",
    "    print(f\"Itenración: {(epoch + 1)} / {epochs} -----------------------------\")\n",
    "    \n",
    "    #Train\n",
    "    train_loop(train_loader,Letter_classifier,optimizer,loss)\n",
    "\n",
    "    #Validation\n",
    "    val_loop(val_loader,Letter_classifier,loss)\n",
    "\n",
    "print(\"Finalizado entrenamiento del modelo!\")"
   ]
  }
 ],
 "metadata": {
  "kernelspec": {
   "display_name": ".venv",
   "language": "python",
   "name": "python3"
  },
  "language_info": {
   "codemirror_mode": {
    "name": "ipython",
    "version": 3
   },
   "file_extension": ".py",
   "mimetype": "text/x-python",
   "name": "python",
   "nbconvert_exporter": "python",
   "pygments_lexer": "ipython3",
   "version": "3.11.11"
  }
 },
 "nbformat": 4,
 "nbformat_minor": 2
}
